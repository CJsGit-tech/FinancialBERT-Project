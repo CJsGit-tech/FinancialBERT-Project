{
 "cells": [
  {
   "cell_type": "code",
   "execution_count": 1,
   "id": "9f0075c7-839d-4a1f-a13e-73d4d9b1106c",
   "metadata": {},
   "outputs": [],
   "source": [
    "import pandas as pd\n",
    "import torch\n",
    "from tqdm.notebook import tqdm\n",
    "from datasets import load_dataset\n",
    "from transformers import (AutoModel, AutoConfig, AutoTokenizer,AutoModelForSequenceClassification,\n",
    "                          pipeline, Trainer, TrainingArguments,EarlyStoppingCallback)\n",
    "from utils.text_processing import (get_summarizer, perform_summarizer, text_filter, \n",
    "                                   get_sentiment_model, get_topic_model,compute_metrics)"
   ]
  },
  {
   "cell_type": "code",
   "execution_count": null,
   "id": "7b24b262-6214-48bd-8910-2380ccc66184",
   "metadata": {},
   "outputs": [],
   "source": [
    "def preprocess_input_data(batch):\n",
    "    # take a batch\n",
    "    texts = batch['summary']\n",
    "    \n",
    "    # encode them\n",
    "    text_encoded = tokenizer(texts, padding='max_length',truncation=True, max_length=256)\n",
    "    \n",
    "    return text_encoded"
   ]
  },
  {
   "cell_type": "markdown",
   "id": "ce91fca4-0aff-4ebf-b067-d84135aa89e1",
   "metadata": {},
   "source": [
    "## Load Trained Model Weights"
   ]
  },
  {
   "cell_type": "code",
   "execution_count": null,
   "id": "b02578d6-037e-4033-a06b-eec1bb785a5d",
   "metadata": {},
   "outputs": [],
   "source": [
    "device = 'cuda'\n",
    "#######\n",
    "model_ckpt = None\n",
    "#######\n",
    "tokenizer = AutoTokenizer.from_pretrained(model_ckpt)\n",
    "model = AutoModel.from_pretrained(model_ckpt)\n",
    "\n",
    "# Initiate model\n",
    "summary_model_name = 'facebook/bart-large-cnn' # pretrained model hosted on HuggingFace\n",
    "summary_model = get_summarizer(summary_model_name)"
   ]
  },
  {
   "cell_type": "markdown",
   "id": "ac4b6872-e878-4080-8ce5-366142bc1c23",
   "metadata": {},
   "source": [
    "## Load Text Data & Run Concated Summary with CLS"
   ]
  },
  {
   "cell_type": "code",
   "execution_count": null,
   "id": "eb33a927-d044-4e46-99c0-a8aae7580db5",
   "metadata": {},
   "outputs": [],
   "source": [
    "data = pd.read_csv('../data/BERT/articles_2015_2019_train_fold-1.csv')\n",
    "\n",
    "cls = {} \n",
    "summaries = {}\n",
    "\n",
    "for group in tqdm(data.groupby(by = 'timestamp')):\n",
    "    date_idx = group[0]\n",
    "    concat_news = ''\n",
    "    for text in group[1].text:\n",
    "        concat_news = concat_news + text \n",
    "    \n",
    "    if len(concat_news.split()) >= 250:\n",
    "        if len(concat_news.split()) >= 5000:\n",
    "            concat_news = ' '.join(concat_news.split()[:2000])\n",
    "        summary = perform_summarizer(concat_news, summary_model, ratio = 0.5, return_embeddings = False)\n",
    "        summary_len = len(summary.split())        \n",
    "        \n",
    "        while summary_len >= 250:\n",
    "            summary = perform_summarizer(summary, summary_model, ratio = 0.8, return_embeddings = False)\n",
    "            summary_len = len(summary.split())    \n",
    "        \n",
    "        \n",
    "        \n",
    "        tokens = tokenizer(summary, padding='max_length',truncation=True, max_length=512)\n",
    "        input_tokens = torch.tensor([tokens['input_ids']])\n",
    "        pooler_output = model(input_tokens).last_hidden_state.mean(dim=1) # [1, 768] \n",
    "        pooler_output = pooler_output.flatten().tolist()\n",
    "        \n",
    "        cls[date_idx] = pooler_output\n",
    "        summaries[date_idx] = summary\n",
    "    else:\n",
    "        tokens = tokenizer(concat_news, \n",
    "                           padding='max_length',\n",
    "                           truncation=True, \n",
    "                           max_length=512, \n",
    "                           add_special_tokens=True)\n",
    "        \n",
    "        input_tokens = torch.tensor([tokens['input_ids']])\n",
    "        pooler_output = model(input_tokens).last_hidden_state.mean(dim=1) # [1, 768] \n",
    "        pooler_output = pooler_output.flatten().tolist()\n",
    "        cls[date_idx] = pooler_output\n",
    "        summaries[date_idx] = summary"
   ]
  },
  {
   "cell_type": "markdown",
   "id": "bee29948-7f3e-436c-8353-dcdd91df7c2d",
   "metadata": {},
   "source": [
    "### Save Data"
   ]
  },
  {
   "cell_type": "code",
   "execution_count": null,
   "id": "b32235a3-42ac-450d-98e1-9a0f4bc9096c",
   "metadata": {},
   "outputs": [],
   "source": [
    "cls_path = '../data/BERT/articles_2015_2019_train_fold-1_CLS.txt'\n",
    "sum_path = '../data/BERT/articles_2015_2019_train_fold-1_concated_summaries.txt'\n",
    "\n",
    "with open(cls_path,'w') as f:\n",
    "    f.write(str(cls))\n",
    "    \n",
    "with open(sum_path,'w',encoding='utf-8') as f:\n",
    "    f.write(str(summaries))"
   ]
  },
  {
   "cell_type": "code",
   "execution_count": null,
   "id": "0d8b4136-b0e9-438d-846e-a687007b8953",
   "metadata": {},
   "outputs": [],
   "source": []
  }
 ],
 "metadata": {
  "kernelspec": {
   "display_name": "Python 3 (ipykernel)",
   "language": "python",
   "name": "python3"
  },
  "language_info": {
   "codemirror_mode": {
    "name": "ipython",
    "version": 3
   },
   "file_extension": ".py",
   "mimetype": "text/x-python",
   "name": "python",
   "nbconvert_exporter": "python",
   "pygments_lexer": "ipython3",
   "version": "3.9.12"
  }
 },
 "nbformat": 4,
 "nbformat_minor": 5
}
