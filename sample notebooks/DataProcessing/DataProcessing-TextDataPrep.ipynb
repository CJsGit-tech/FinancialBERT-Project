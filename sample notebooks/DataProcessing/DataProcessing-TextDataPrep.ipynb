{
 "cells": [
  {
   "cell_type": "markdown",
   "id": "b51db5d7-56c4-436b-a29e-619ec024c67b",
   "metadata": {
    "tags": []
   },
   "source": [
    "## Data and Imports"
   ]
  },
  {
   "cell_type": "code",
   "execution_count": 1,
   "id": "f648d551-a9cb-4ede-a6b6-92f2ff67a775",
   "metadata": {},
   "outputs": [],
   "source": [
    "import pandas as pd\n",
    "from tqdm.notebook import tqdm\n",
    "from datasets import load_dataset\n",
    "from transformers import (AutoModel, AutoConfig, AutoTokenizer,AutoModelForSequenceClassification,\n",
    "                          pipeline, Trainer, TrainingArguments,EarlyStoppingCallback)\n",
    "from utils.text_processing import (get_summarizer, perform_summarizer, text_filter, \n",
    "                                   get_sentiment_model, get_topic_model,compute_metrics)"
   ]
  },
  {
   "cell_type": "code",
   "execution_count": null,
   "id": "f25ffbee-c7b5-4014-a4fb-b7636c6152ad",
   "metadata": {},
   "outputs": [],
   "source": [
    "df = pd.read_csv('../data/BERT/raw_text_data.csv')\n",
    "df = text_filter(df)"
   ]
  },
  {
   "cell_type": "markdown",
   "id": "bc9a2dbf-9c93-4d26-8bac-6a1cac85bb91",
   "metadata": {
    "tags": []
   },
   "source": [
    "## Summary Generation with bert-extractive-summarizer\n",
    "- [Bert-Extractive-Summarizer](https://github.com/dmmiller612/bert-extractive-summarizer)\n",
    "- [Bart-Large-CNN](https://huggingface.co/facebook/bart-large-cnn)"
   ]
  },
  {
   "cell_type": "code",
   "execution_count": null,
   "id": "f78b9356-8ca4-4112-b342-f7955a04aaff",
   "metadata": {},
   "outputs": [],
   "source": [
    "# Initiate model\n",
    "summary_model_name = 'facebook/bart-large-cnn' # pretrained model hosted on HuggingFace\n",
    "summary_model = get_summarizer(summary_model_name)"
   ]
  },
  {
   "cell_type": "code",
   "execution_count": null,
   "id": "b9ee0c6d-2d25-4a8e-b895-aa9c786abf00",
   "metadata": {},
   "outputs": [],
   "source": [
    "# Perfom Summarizer\n",
    "summarized_texts = []\n",
    "sum_flag = 250\n",
    "shrink_ratio = 0.8\n",
    "\n",
    "for idx in tqdm(range(len(df)), desc='Raw Texts'):\n",
    "    text_tok_cnts = df['cnt_len'][idx]\n",
    "    raw_text = df['text'][idx]\n",
    "    \n",
    "    # When the raw text is long enough for generating a summary\n",
    "    if text_tok_cnts >= sum_flag:\n",
    "        summary = perform_summarizer(raw_text, summary_model, ratio = shrink_ratio, return_embeddings=False)\n",
    "        summary_tok_cnts = len(summary.split())\n",
    "        \n",
    "        while summary_tok_cnts >= sum_flag:\n",
    "            summary = perform_summarizer(summary, summary_model, ratio = shrink_ratio, return_embeddings=False)\n",
    "            summary_tok_cnts = len(summary.split())\n",
    "        \n",
    "        summarized_texts.append(summary)\n",
    "    \n",
    "    else:\n",
    "        summarized_texts.append(raw_text)\n",
    "        \n",
    "df['summary'] = summarized_texts"
   ]
  },
  {
   "cell_type": "markdown",
   "id": "c040759b-c2ca-425e-a793-9122a803f5f2",
   "metadata": {
    "tags": []
   },
   "source": [
    "## Sentiment Label and Topic Label Generation\n",
    "- [(Used in the project) Sentiment Model 1: mrm8488/distilroberta-finetuned-financial-news-sentiment-analysis](https://huggingface.co/mrm8488/distilroberta-finetuned-financial-news-sentiment-analysis)\n",
    "- [Sentiment Model 2:Jean-Baptiste/roberta-large-financial-news-sentiment-en](https://huggingface.co/Jean-Baptiste/roberta-large-financial-news-sentiment-en)\n",
    "- [Topic Model: jonaskoenig/topic_classification_04](https://huggingface.co/jonaskoenig/topic_classification_04)"
   ]
  },
  {
   "cell_type": "code",
   "execution_count": null,
   "id": "ddc1ede1-d799-404e-b7e4-7740cddfa14a",
   "metadata": {},
   "outputs": [],
   "source": [
    "# Financial\n",
    "financial_tokenizer, financial_model = get_sentiment_model('mrm8488/distilroberta-finetuned-financial-news-sentiment-analysis')\n",
    "# financial_tokenizer, financial_model = get_model('Jean-Baptiste/roberta-large-financial-news-sentiment-en')\n",
    "topic_tokenizer, topic_model = get_topic_model('jonaskoenig/topic_classification_04',from_tf=True)\n",
    "\n",
    "article_tokenizer_kwargs = {'padding':'max_length',\n",
    "                            'truncation':True,\n",
    "                            'max_length':250,\n",
    "                            'add_special_tokens':True}\n",
    "\n",
    "article_classifier = pipeline(\"sentiment-analysis\", \n",
    "                              model=financial_model, \n",
    "                              tokenizer=financial_tokenizer,\n",
    "                              **article_tokenizer_kwargs)"
   ]
  },
  {
   "cell_type": "code",
   "execution_count": null,
   "id": "7d781f4a-3a3d-44b0-87be-d17a773fae4c",
   "metadata": {},
   "outputs": [],
   "source": [
    "# Create Sentiment Labels\n",
    "sentiment_labels = []\n",
    "sentiment_threshold = 0.7\n",
    "\n",
    "for text in tqdm(df['text'].values,total=len(df),desc='Sentiment Label Generation'):\n",
    "    \n",
    "    # Make Predictions\n",
    "    prediction = article_classifier(text)[0]\n",
    "    sentiment_label = prediction['label']\n",
    "    sentiment_score = prediction['score']\n",
    "    \n",
    "    if (sentiment_score >= sentiment_threshold) & (sentiment_label != 'neutral'):\n",
    "        sentiment_labels.append(sentiment_label)\n",
    "\n",
    "    else:\n",
    "        sentiment_labels.append('NA')\n",
    "        \n",
    "df['sentiment'] = sentiment_labels"
   ]
  },
  {
   "cell_type": "code",
   "execution_count": null,
   "id": "9424614c-3d73-4cba-8b65-b212d3876f1a",
   "metadata": {
    "tags": []
   },
   "outputs": [],
   "source": [
    "# Create Topic Labels\n",
    "topics = []\n",
    "topic_confidence_threshold = 0.9\n",
    "\n",
    "for summary in tqdm(df.summary,total=len(df),desc='Sentiment Label Generation'):\n",
    "    \n",
    "    topic_classifier = pipeline(\"sentiment-analysis\", \n",
    "                                model=topic_model, \n",
    "                                tokenizer=topic_tokenizer,\n",
    "                                **article_tokenizer_kwargs)\n",
    "    \n",
    "    prediction = topic_classifier(text)[0]\n",
    "    topic_label = prediction['label']\n",
    "    topic_score = prediction['score']\n",
    "\n",
    "    if topic_score >= topic_confidence_threshold:\n",
    "        topics.append(topic_label)\n",
    "\n",
    "    else:\n",
    "        topics.append('NA')\n",
    "        \n",
    "df['topic'] = topics"
   ]
  },
  {
   "cell_type": "markdown",
   "id": "04a96482-f3af-40ef-a845-68821d14f6fe",
   "metadata": {
    "tags": []
   },
   "source": [
    "##### Save Data"
   ]
  },
  {
   "cell_type": "code",
   "execution_count": null,
   "id": "e1b50d5d-afab-44ff-bf47-d76b194e2c78",
   "metadata": {},
   "outputs": [],
   "source": [
    "### Save to CSV ####\n",
    "df.to_csv('data_sample.csv',index=0)"
   ]
  }
 ],
 "metadata": {
  "kernelspec": {
   "display_name": "Python 3 (ipykernel)",
   "language": "python",
   "name": "python3"
  },
  "language_info": {
   "codemirror_mode": {
    "name": "ipython",
    "version": 3
   },
   "file_extension": ".py",
   "mimetype": "text/x-python",
   "name": "python",
   "nbconvert_exporter": "python",
   "pygments_lexer": "ipython3",
   "version": "3.9.12"
  }
 },
 "nbformat": 4,
 "nbformat_minor": 5
}
