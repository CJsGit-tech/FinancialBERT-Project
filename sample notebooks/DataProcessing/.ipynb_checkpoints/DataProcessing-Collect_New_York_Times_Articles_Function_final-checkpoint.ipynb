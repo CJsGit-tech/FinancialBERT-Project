{
 "cells": [
  {
   "cell_type": "code",
   "execution_count": null,
   "id": "1f47b979",
   "metadata": {},
   "outputs": [],
   "source": [
    "#!pip install newspaper3k"
   ]
  },
  {
   "cell_type": "code",
   "execution_count": null,
   "id": "d103d6c9",
   "metadata": {},
   "outputs": [],
   "source": [
    "import requests\n",
    "import pandas as pd\n",
    "from newspaper import Article\n",
    "from newspaper import Config\n",
    "from tqdm.auto import tqdm\n",
    "import nltk\n",
    "import time\n",
    "nltk.download('punkt')"
   ]
  },
  {
   "cell_type": "code",
   "execution_count": null,
   "id": "b268081e",
   "metadata": {},
   "outputs": [],
   "source": [
    "# Collect url of news articles from New York Times website\n",
    "# Use New York Times Developer API\n",
    "# Period: 2015 - 2020\n",
    "\n",
    "doc_list = []\n",
    "api_key = '' # please replace the empty string with your api key\n",
    "for year in [2015, 2016, 2017, 2018, 2019, 2020]:\n",
    "    for month in range(1, 13):\n",
    "        url = f'https://api.nytimes.com/svc/archive/v1/{year}/{month}.json?api-key={api_kry}'\n",
    "        response = requests.get(url).json()\n",
    "        \n",
    "        if 'response' in response:\n",
    "            data = {'web_url': [],\n",
    "                    'news_desk':[],\n",
    "                    'section_name': [], \n",
    "                    'pub_date': [],\n",
    "                    'word_count': []}\n",
    "            for doc in response['response']['docs']:\n",
    "                for key in data.keys():\n",
    "                    data[key].append(doc[key])\n",
    "\n",
    "            doc_list.append(data)\n",
    "        "
   ]
  },
  {
   "cell_type": "code",
   "execution_count": null,
   "id": "2ece6e66",
   "metadata": {},
   "outputs": [],
   "source": [
    "# Convert dictionaries to dataframes\n",
    "# Concatenate dataframes\n",
    "\n",
    "df_all_list = [pd.DataFrame(doc_dict) for doc_dict in doc_list]\n",
    "df_all = pd.concat(df_all_list, ignore_index = True)"
   ]
  },
  {
   "cell_type": "code",
   "execution_count": null,
   "id": "c872ac41",
   "metadata": {},
   "outputs": [],
   "source": [
    "def collect_news_text(data: 'dataframe of url'):\n",
    "    news_text_dict = {}\n",
    "    config = Config()\n",
    "    config.request_timeout = 10 #handle timeout exception\n",
    "    \n",
    "    paragraph_list = [] #list to collect text\n",
    "    data_1 = data[data['word_count'] >0].copy() # filter out articles in whihch the word count equals 0\n",
    "    \n",
    "    for url in tqdm(data_1['web_url']):\n",
    "        try:\n",
    "            article = Article(url, config = config)\n",
    "            article.download() # download text\n",
    "            article.parse()\n",
    "            article.nlp()\n",
    "            paragraph_list.append(article.text)\n",
    "            time.sleep(6)\n",
    "        except:\n",
    "            paragraph_list.append('') # if meeting exception, add empty.\n",
    "            time.sleep(6)\n",
    "\n",
    "    data_1['text'] = paragraph_list\n",
    "    \n",
    "    data_1 = data_1[data_1['text'] != '']\n",
    "    \n",
    "    return data_1"
   ]
  },
  {
   "cell_type": "code",
   "execution_count": null,
   "id": "668b7656",
   "metadata": {},
   "outputs": [],
   "source": [
    "# Demonstration:\n",
    "\n",
    "df_health = df_all[(df_all['section_name'] == 'Health')]\n",
    "df_health_output = collect_news_text(df_health)"
   ]
  }
 ],
 "metadata": {
  "kernelspec": {
   "display_name": "Python 3 (ipykernel)",
   "language": "python",
   "name": "python3"
  },
  "language_info": {
   "codemirror_mode": {
    "name": "ipython",
    "version": 3
   },
   "file_extension": ".py",
   "mimetype": "text/x-python",
   "name": "python",
   "nbconvert_exporter": "python",
   "pygments_lexer": "ipython3",
   "version": "3.8.13"
  }
 },
 "nbformat": 4,
 "nbformat_minor": 5
}
