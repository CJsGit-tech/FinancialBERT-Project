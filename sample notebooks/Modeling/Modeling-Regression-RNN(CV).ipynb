{
 "cells": [
  {
   "cell_type": "code",
   "execution_count": null,
   "metadata": {
    "id": "MqwYvyQxPqjW"
   },
   "outputs": [],
   "source": [
    "#pip install yfinance"
   ]
  },
  {
   "cell_type": "code",
   "execution_count": null,
   "metadata": {
    "colab": {
     "base_uri": "https://localhost:8080/"
    },
    "id": "Ih1lhgLMQDBF",
    "outputId": "87795df0-9d6d-40b0-86c8-5650bab6b457"
   },
   "outputs": [
    {
     "name": "stdout",
     "output_type": "stream",
     "text": [
      "Mounted at /content/drive\n"
     ]
    }
   ],
   "source": [
    "import os\n",
    "import ast\n",
    "from datetime import datetime\n",
    "from typing import List, Generator\n",
    "import warnings\n",
    "warnings.filterwarnings(\"ignore\")\n",
    "\n",
    "import yfinance as yf\n",
    "\n",
    "import numpy as np\n",
    "import pandas as pd\n",
    "\n",
    "import pywt\n",
    "from scipy import signal\n",
    "from sklearn.decomposition import PCA\n",
    "from sklearn.model_selection._split import _BaseKFold\n",
    "from sklearn.utils.validation import indexable, _num_samples\n",
    "\n",
    "import tensorflow.compat.v1 as tf\n",
    "tf.disable_v2_behavior()\n",
    "from tensorflow.compat.v1.nn.rnn_cell import LSTMCell\n",
    "from tensorflow.compat.v1.nn import static_rnn\n",
    "from tensorflow.python.ops.rnn import bidirectional_dynamic_rnn as bi_rnn\n",
    "\n",
    "from sklearn.metrics import mean_absolute_error,mean_squared_error\n",
    "\n",
    "import matplotlib.pyplot as plt\n",
    "\n",
    "#from google.colab import drive\n",
    "#drive.mount(\"/content/drive\",force_remount=True)"
   ]
  },
  {
   "cell_type": "markdown",
   "metadata": {
    "id": "VzmdYdYvh93B"
   },
   "source": [
    "# 0.utils"
   ]
  },
  {
   "cell_type": "markdown",
   "metadata": {
    "id": "VqfugNLvxeoB"
   },
   "source": [
    "## 0.1 load data"
   ]
  },
  {
   "cell_type": "code",
   "execution_count": null,
   "metadata": {
    "id": "jqlFe1xjiFXa"
   },
   "outputs": [],
   "source": [
    "def load_stockindex_(indexname=None,start_='2014-12-31',end_='2021-01-01'):\n",
    "  # note:\n",
    "  stockindex = yf.Ticker(indexname)\n",
    "  stockindex_hist = stockindex.history(start=start_,end=end_)\n",
    "  stockindex_hist.index=pd.to_datetime(stockindex_hist.index.date)\n",
    "  stockindex_hist.index = pd.DatetimeIndex(stockindex_hist.index).to_period('D')\n",
    "  return stockindex_hist[['Close']]"
   ]
  },
  {
   "cell_type": "code",
   "execution_count": null,
   "metadata": {
    "id": "XKbtRV9zQcTc"
   },
   "outputs": [],
   "source": [
    "def load_sentiment_(start_='2014-12-31',end_='2020-12-31'):\n",
    "  # note:\n",
    "  filename = \"../data/lexicon/df_news_sentiment_LMDictionary.csv\"\n",
    "  df=pd.read_csv(filename).drop('Unnamed: 0',axis=1)\n",
    "  df=df[(df['timestamp']>=start_)&(df['timestamp']<=end_)]\n",
    "\n",
    "  df.index=df['timestamp']\n",
    "  df=df.drop('timestamp',axis=1)\n",
    "  df.index=pd.to_datetime(df.index)\n",
    "  df.index = pd.DatetimeIndex(df.index).to_period('D')\n",
    "\n",
    "  for col in df.columns:\n",
    "    df[col]=df[col]/df[col].max()\n",
    "\n",
    "  return df"
   ]
  },
  {
   "cell_type": "code",
   "execution_count": null,
   "metadata": {
    "id": "LBoAK9LNTcBH"
   },
   "outputs": [],
   "source": [
    "def load_CLS_(dim_emb=None,start_='2014-12-31',end_='2020-12-31'):\n",
    "  # note:\n",
    "  pca=PCA(n_components=dim_emb)\n",
    "  \n",
    "  #----------------------------------\n",
    "  path = '../data/CLS/CLSv2/train_CLS_v2_dict.txt'\n",
    "  with open(path, 'r') as j:\n",
    "    contents = ast.literal_eval(j.read())\n",
    "  df_train = pd.DataFrame(contents).T\n",
    "  path = '../data/CLS/CLSv2/valid_CLS_v2_dict.txt'\n",
    "  with open(path, 'r') as j:\n",
    "    contents = ast.literal_eval(j.read())\n",
    "  df_vali = pd.DataFrame(contents).T\n",
    "  df1=pd.concat([df_train,df_vali],axis=0)[:-1] # 2019-12-31 in vali and test, drop it in vali\n",
    "\n",
    "  df1_tmp=pd.DataFrame()\n",
    "  df1_tmp['Date']=df1.index\n",
    "  df1_tmp[['p'+str(x) for x in range(dim_emb)]]=pca.fit_transform(np.array(df1))\n",
    "\n",
    "  #------------------------------------\n",
    "  path = '../data/CLS/CLSv2/test_CLS_v2_dict.txt'\n",
    "  with open(path, 'r') as j:\n",
    "    contents = ast.literal_eval(j.read())\n",
    "  df2 = pd.DataFrame(contents).T\n",
    "\n",
    "  df2_tmp=pd.DataFrame()\n",
    "  df2_tmp['Date']=df2.index\n",
    "  df2_tmp[['p'+str(x) for x in range(dim_emb)]]=pca.transform(np.array(df2))\n",
    "   \n",
    "  #-------------------------------------\n",
    "  df=pd.concat([df1_tmp,df2_tmp],axis=0)\n",
    "  df=df[(df['Date']>=start_)&(df['Date']<=end_)]\n",
    "\n",
    "  df.index=df['Date']\n",
    "  df.index=pd.to_datetime(df.index)\n",
    "  df.index = pd.DatetimeIndex(df.index).to_period('D')\n",
    "  df=df.drop(['Date'],axis=1)\n",
    "  return df"
   ]
  },
  {
   "cell_type": "markdown",
   "metadata": {
    "id": "EDkUQrqAxmc8"
   },
   "source": [
    "## 0.2 prepare data"
   ]
  },
  {
   "cell_type": "code",
   "execution_count": null,
   "metadata": {
    "id": "qMrYUhcKtXvX"
   },
   "outputs": [],
   "source": [
    "def logreturn_(arr_):\n",
    "  # note:\n",
    "  logreturn = np.diff(np.log(arr_))\n",
    "  return logreturn"
   ]
  },
  {
   "cell_type": "code",
   "execution_count": null,
   "metadata": {
    "id": "5IR70dZDtYDj"
   },
   "outputs": [],
   "source": [
    "def generate_samples(index_name='^GSPC',emb_name='CLS',\n",
    "                     dim_days=10,dim_emb=4,dim_CLSemb=9):\n",
    "\n",
    "  #===================================================\n",
    "  data=load_stockindex_(index_name)\n",
    "\n",
    "  arr=np.array(data).reshape(-1)\n",
    "  arr_logreturn=logreturn_(arr)\n",
    "\n",
    "  if emb_name=='CLS':\n",
    "    arr_emb=np.array(pd.merge(data, load_CLS_(dim_CLSemb), \n",
    "                     how='left',left_index=True, right_index=True).drop('Close',axis=1))[1:]\n",
    "  else:\n",
    "    arr_emb=np.array(pd.merge(data, load_sentiment_(), \n",
    "                     how='left',left_index=True, right_index=True).drop('Close',axis=1))[1:]\n",
    "  \n",
    "  num_test=len(data[data.index>='2020-01-01'])\n",
    "  #print(arr_logreturn.shape, arr_emb.shape, num_test)\n",
    "\n",
    "\n",
    "  #===================================================\n",
    "  start_index=0\n",
    "  end_index=dim_days\n",
    "  x1_set=[]\n",
    "  x2_set=[]\n",
    "  y_set=[]\n",
    "  \n",
    "  #-------------------------------------\n",
    "  for i in range(len(arr_logreturn)-dim_days):\n",
    "    x1_=arr_logreturn[start_index:end_index]\n",
    "    widths=np.arange(1, dim_emb+1)\n",
    "    x1=signal.cwt(data=x1_, wavelet=signal.ricker, widths=widths).T\n",
    "\n",
    "    x2=arr_emb[start_index:end_index]\n",
    "\n",
    "    y=arr_logreturn[end_index]\n",
    "\n",
    "    x1_set.append(x1)\n",
    "    x2_set.append(x2)\n",
    "    y_set.append(y)\n",
    "    \n",
    "    start_index+=1\n",
    "    end_index+=1\n",
    "\n",
    "  #-----------------------------------\n",
    "  x1_set,x2_set,y_set=np.array(x1_set),np.array(x2_set),np.array(y_set)\n",
    "  holdout_x1,test_x1=x1_set[:-num_test],x1_set[-num_test:]\n",
    "  holdout_x2,test_x2=x2_set[:-num_test],x2_set[-num_test:]\n",
    "  holdout_y,test_y=y_set[:-num_test],y_set[-num_test:]\n",
    "\n",
    "  print('holdout_x1 shape=',holdout_x1.shape,'   test_x1 shape=',test_x1.shape)\n",
    "  print('holdout_x2 shape=',holdout_x2.shape,'   test_x2 shape=',test_x2.shape)\n",
    "  print('holdout_y shape=',holdout_y.shape,'   test_y shape=',test_y.shape)\n",
    "  return holdout_x1,test_x1,holdout_x2,test_x2,holdout_y,test_y"
   ]
  },
  {
   "cell_type": "code",
   "execution_count": null,
   "metadata": {
    "id": "iWMrRYSphvKt"
   },
   "outputs": [],
   "source": [
    "class MonteCarloCV(_BaseKFold):\n",
    "\n",
    "    def __init__(self,\n",
    "                 n_splits: int,\n",
    "                 train_size: float,\n",
    "                 test_size: float,\n",
    "                 gap: int = 0,\n",
    "                 seed: int= 42):\n",
    "        \"\"\"\n",
    "        Monte Carlo Cross-Validation\n",
    "\n",
    "        Holdout applied in multiple testing periods\n",
    "        Testing origin (time-step where testing begins) is randomly chosen according to a monte carlo simulation\n",
    "\n",
    "        :param n_splits: (int) Number of monte carlo repetitions in the procedure\n",
    "        :param train_size: (float) Train size, in terms of ratio of the total length of the series\n",
    "        :param test_size: (float) Test size, in terms of ratio of the total length of the series\n",
    "        :param gap: (int) Number of samples to exclude from the end of each train set before the test set.\n",
    "        :param seed: (int) Added to ensure reproducibility in the random selection of folds\n",
    "        \"\"\"\n",
    "\n",
    "        self.n_splits = n_splits\n",
    "        self.n_samples = -1\n",
    "        self.gap = gap\n",
    "        self.train_size = train_size\n",
    "        self.test_size = test_size\n",
    "        self.train_n_samples = 0\n",
    "        self.test_n_samples = 0\n",
    "        # add a seed parameter\n",
    "        self.seed = seed\n",
    "\n",
    "        self.mc_origins = []\n",
    "\n",
    "    def split(self, X, y=None, groups=None) -> Generator:\n",
    "        \"\"\"Generate indices to split data into training and test set.\n",
    "        Parameters\n",
    "        ----------\n",
    "        X : array-like of shape (n_samples, n_features)\n",
    "            Training data, where `n_samples` is the number of samples\n",
    "            and `n_features` is the number of features.\n",
    "        y : array-like of shape (n_samples,)\n",
    "            Always ignored, exists for compatibility.\n",
    "        groups : array-like of shape (n_samples,)\n",
    "            Always ignored, exists for compatibility.\n",
    "        Yields\n",
    "        ------\n",
    "        train : ndarray\n",
    "            The training set indices for that split.\n",
    "        test : ndarray\n",
    "            The testing set indices for that split.\n",
    "        \"\"\"\n",
    "        # set the seed\n",
    "        np.random.seed(self.seed)\n",
    "\n",
    "        X, y, groups = indexable(X, y, groups)\n",
    "        self.n_samples = _num_samples(X)\n",
    "\n",
    "        self.train_n_samples = int(self.n_samples * self.train_size) - 1\n",
    "        self.test_n_samples = int(self.n_samples * self.test_size) - 1\n",
    "\n",
    "        # Make sure we have enough samples for the given split parameters\n",
    "        if self.n_splits > self.n_samples:\n",
    "            raise ValueError(\n",
    "                f'Cannot have number of folds={self.n_splits} greater'\n",
    "                f' than the number of samples={self.n_samples}.'\n",
    "            )\n",
    "        if self.train_n_samples - self.gap <= 0:\n",
    "            raise ValueError(\n",
    "                f'The gap={self.gap} is too big for number of training samples'\n",
    "                f'={self.train_n_samples} with testing samples={self.test_n_samples} and gap={self.gap}.'\n",
    "            )\n",
    "\n",
    "        indices = np.arange(self.n_samples)\n",
    "\n",
    "        selection_range = np.arange(self.train_n_samples + 1, self.n_samples - self.test_n_samples - 1)\n",
    "\n",
    "        self.mc_origins = \\\n",
    "            np.random.choice(a=selection_range,\n",
    "                             size=self.n_splits,\n",
    "                             replace=True)\n",
    "\n",
    "        for origin in self.mc_origins:\n",
    "            if self.gap > 0:\n",
    "                train_end = origin - self.gap + 1\n",
    "            else:\n",
    "                train_end = origin - self.gap\n",
    "            train_start = origin - self.train_n_samples - 1\n",
    "\n",
    "            test_end = origin + self.test_n_samples\n",
    "\n",
    "            yield (\n",
    "                indices[train_start:train_end],\n",
    "                indices[origin:test_end],\n",
    "            )\n",
    "\n",
    "    def get_origins(self) -> List[int]:\n",
    "        return self.mc_origins"
   ]
  },
  {
   "cell_type": "code",
   "execution_count": null,
   "metadata": {
    "id": "HAwZ8od0oOcB"
   },
   "outputs": [],
   "source": [
    "def cv_index_dict_(holdout_y):\n",
    "  cv_index_dict={}\n",
    "  mccv = MonteCarloCV(n_splits=10,train_size=0.6,test_size=0.2,gap=0,seed=42) \n",
    "  for fold, (train_index, test_index) in enumerate(mccv.split(holdout_y)):\n",
    "    cv_index_dict[fold]=[train_index,test_index]\n",
    "  return cv_index_dict"
   ]
  },
  {
   "cell_type": "markdown",
   "metadata": {
    "id": "84oLupfTPTW1"
   },
   "source": [
    "## 0.3 model"
   ]
  },
  {
   "cell_type": "code",
   "execution_count": null,
   "metadata": {
    "id": "HJL5jRfcPD03"
   },
   "outputs": [],
   "source": [
    "def rnn_cv_text_(holdout_x1,test_x1,holdout_x2,test_x2,holdout_y,test_y,cv_index_dict,\n",
    "             dim_days=10,dim_emb=4,dim_CLSemb=9,dim_lstm=2,dim_fully=4,\n",
    "             epoch_num=10,lr=0.0001):\n",
    "  \n",
    "  vali_mae=[]\n",
    "  for key in cv_index_dict:\n",
    "    train_index=cv_index_dict[key][0]\n",
    "    train_x1=holdout_x1[train_index]\n",
    "    train_x2=holdout_x2[train_index]\n",
    "    train_y=holdout_y[train_index]\n",
    "\n",
    "    vali_index=cv_index_dict[key][1]\n",
    "    vali_x1=holdout_x1[vali_index]\n",
    "    vali_x2=holdout_x2[vali_index]\n",
    "    vali_y=holdout_y[vali_index]\n",
    "\n",
    "    tf.keras.backend.clear_session()\n",
    "    #1.define model's variables--------------------------------\n",
    "    ## 1.1 placeholder\n",
    "    ph_kp=tf.placeholder(tf.float32)\n",
    "    ph_x1=tf.placeholder(tf.float32,shape=[None,dim_days,dim_emb])\n",
    "    ph_x2=tf.placeholder(tf.float32,shape=[None,dim_days,dim_CLSemb])\n",
    "    ph_y=tf.placeholder(tf.float32,shape=[None,1])\n",
    "    ## 1.2 lstm cell\n",
    "    cell1=LSTMCell(dim_lstm) \n",
    "    cell2=LSTMCell(dim_lstm) \n",
    "    cell3=LSTMCell(dim_lstm)\n",
    "    ## 1.3 attention mechanism\n",
    "    w_omega=tf.Variable(tf.random_normal([dim_lstm*2,2],stddev=0.1))\n",
    "    b_omega=tf.Variable(tf.random_normal([2,],stddev=0.1))\n",
    "    u_omega=tf.Variable(tf.random_normal([2,],stddev=0.1))\n",
    "    ## 1.4 fully connected \n",
    "    ww=tf.Variable(tf.truncated_normal([dim_lstm*2+dim_days,dim_fully],stddev=0.1))\n",
    "    bb=tf.Variable(tf.constant(0.0,shape=[dim_fully,]))\n",
    "    w=tf.Variable(tf.truncated_normal([dim_fully,1],stddev=0.1))\n",
    "    bias=tf.Variable(tf.constant(0.0,shape=[1,])) \n",
    "    \n",
    "    #2.define model's architecture------------------------------\n",
    "    ##2.1 Bi-lstm part\n",
    "    rnn_outputs_temp,useless=bi_rnn(cell1,cell2,inputs=ph_x1,sequence_length=[dim_days]*1,dtype=tf.float32,scope='x1')\n",
    "    rnn_outputs=tf.concat(rnn_outputs_temp,2)\n",
    "    ##2.2 attention part\n",
    "    v=tf.tanh(tf.tensordot(rnn_outputs,w_omega,axes=1)+b_omega)  #(B,T,D)*(D,A)=(B,T,A)  D=2*d!!!\n",
    "    vu=tf.tensordot(v,u_omega,axes=1)                            #(B,T,A)*(A,)=(B,T)\n",
    "    alphas=tf.nn.softmax(vu)\n",
    "    attention_output=tf.reduce_sum(rnn_outputs*tf.expand_dims(alphas,-1),1)\n",
    "    drop=tf.nn.dropout(attention_output,ph_kp)\n",
    "    ##2.3 concatenate part\n",
    "    CLS_rnn_,_=static_rnn(cell3, tf.unstack(ph_x2, dim_days, 1), dtype=tf.float32)\n",
    "    CLS_rnn=tf.reshape(tf.reduce_mean(CLS_rnn_,axis=2),[1,dim_days])\n",
    "    fully_con_=tf.concat([drop,CLS_rnn],axis=1)\n",
    "    fully_con=tf.nn.relu(tf.nn.xw_plus_b(fully_con_,ww,bb)) ## try leaky-relu, relu, not work\n",
    "    #fully_con=tf.nn.leaky_relu(tf.nn.xw_plus_b(fully_con_,ww,bb))\n",
    "    ##2.3 output part\n",
    "    y_hat=tf.nn.xw_plus_b(fully_con,w,bias) \n",
    "    ##3.loss & optimazation method------------------------------\n",
    "    loss=tf.sqrt(tf.reduce_mean((ph_y-y_hat)**2))  \n",
    "    optimizer=tf.train.AdamOptimizer(learning_rate=lr,beta1=0.99)  ##try SGD optimizer, not work\n",
    "    #optimizer=tf.train.GradientDescentOptimizer(learning_rate=lr)\n",
    "    train_step=optimizer.minimize(loss)\n",
    "    sess=tf.Session()\n",
    "    sess.run(tf.global_variables_initializer()) \n",
    "    \n",
    "    #4.model training-------------------------------------------\n",
    "    for epoch in range(epoch_num):\n",
    "      for i in range(len(train_y)):\n",
    "        x1=train_x1[i].reshape(1,dim_days,dim_emb)\n",
    "        x2=train_x2[i].reshape(1,dim_days,dim_CLSemb)\n",
    "        y=train_y[i].reshape(-1,1)\n",
    "        sess.run(train_step,feed_dict={ph_x1:x1,ph_x2:x2,ph_y:y,ph_kp:0.95})\n",
    "\n",
    "    #5.predict--------------------------------------------------\n",
    "    pred_list=[]\n",
    "    for i in range(len(vali_y)):   \n",
    "      x1=vali_x1[i].reshape(1,dim_days,dim_emb)  \n",
    "      x2=vali_x2[i].reshape(1,dim_days,dim_CLSemb)\n",
    "      pred=sess.run(y_hat,feed_dict={ph_x1:x1,ph_x2:x2,ph_kp:1.0})   \n",
    "      pred_list.append(pred[0][0])  \n",
    "    \n",
    "    arr_tmp=arr[list(train_index)+list(vali_index)]\n",
    "    pred_,true_=[],[]\n",
    "    for i in range(len(vali_y)):\n",
    "      true_.append(np.exp(vali_y[i])*arr_tmp[-len(vali_y)-1+i])\n",
    "      pred_.append(np.exp(pred_list[i])*arr_tmp[-len(vali_y)-1+i])\n",
    "\n",
    "    mae_=round(mean_absolute_error(np.array(true_).reshape(-1), \n",
    "                                   np.array(pred_).reshape(-1)),6)\n",
    "    vali_mae.append(mae_)   \n",
    "  \n",
    "  print('mae text_emb: ',np.mean(vali_mae),np.std(vali_mae))\n",
    "  return vali_mae"
   ]
  },
  {
   "cell_type": "code",
   "execution_count": null,
   "metadata": {
    "id": "vLdHay-bV4d1"
   },
   "outputs": [],
   "source": [
    "def rnn_cv_(holdout_x,test_x,holdout_y,test_y,cv_index_dict,\n",
    "            epoch_num=10,lr=0.0016,\n",
    "            dim_days=10,dim_emb=4,dim_lstm=2):\n",
    "  vali_mae=[]\n",
    "  for key in cv_index_dict:\n",
    "    train_index=cv_index_dict[key][0]\n",
    "    train_x=holdout_x[train_index]\n",
    "    train_y=holdout_y[train_index]\n",
    "\n",
    "    vali_index=cv_index_dict[key][1]\n",
    "    vali_x=holdout_x[vali_index]\n",
    "    vali_y=holdout_y[vali_index]\n",
    " \n",
    "    tf.keras.backend.clear_session()\n",
    "    #1.define model's variables--------------------------------\n",
    "    ## 1.1 placeholder\n",
    "    ph_kp=tf.placeholder(tf.float32)\n",
    "    ph_x=tf.placeholder(tf.float32,shape=[None,dim_days,dim_emb])\n",
    "    ph_y=tf.placeholder(tf.float32,shape=[None,1])\n",
    "    ## 1.2 lstm cell\n",
    "    cell1=LSTMCell(dim_lstm) \n",
    "    cell2=LSTMCell(dim_lstm) \n",
    "    ## 1.3 attention mechanism\n",
    "    w_omega=tf.Variable(tf.random_normal([dim_lstm*2,2],stddev=0.1))\n",
    "    b_omega=tf.Variable(tf.random_normal([2,],stddev=0.1))\n",
    "    u_omega=tf.Variable(tf.random_normal([2,],stddev=0.1))\n",
    "    ## 1.4 fully connected \n",
    "    w=tf.Variable(tf.truncated_normal([dim_lstm*2,1],stddev=0.1))\n",
    "    bias=tf.Variable(tf.constant(0.0,shape=[1,])) \n",
    "\n",
    "    #2.define model's architecture------------------------------\n",
    "    ##2.1 Bi-lstm part\n",
    "    rnn_outputs_temp,useless=bi_rnn(cell1,cell2,inputs=ph_x,sequence_length=[dim_days]*1,dtype=tf.float32)\n",
    "    rnn_outputs=tf.concat(rnn_outputs_temp,2)\n",
    "    ##2.2 attention part\n",
    "    v=tf.tanh(tf.tensordot(rnn_outputs,w_omega,axes=1)+b_omega)  #(B,T,D)*(D,A)=(B,T,A)  D=2*d!!!\n",
    "    vu=tf.tensordot(v,u_omega,axes=1)                            #(B,T,A)*(A,)=(B,T)\n",
    "    alphas=tf.nn.softmax(vu)\n",
    "    attention_output=tf.reduce_sum(rnn_outputs*tf.expand_dims(alphas,-1),1)\n",
    "    drop=tf.nn.dropout(attention_output,ph_kp)\n",
    "    ##2.3 output part\n",
    "    y_hat=tf.nn.xw_plus_b(drop,w,bias)\n",
    "\n",
    "    ##3.loss & optimazation method------------------------------\n",
    "    loss=tf.sqrt(tf.reduce_mean((ph_y-y_hat)**2))\n",
    "    optimizer=tf.train.AdamOptimizer(learning_rate=lr,beta1=0.99)\n",
    "    train_step=optimizer.minimize(loss)\n",
    "    sess=tf.Session()\n",
    "    sess.run(tf.global_variables_initializer()) \n",
    "    \n",
    "    #4.model training-------------------------------------------\n",
    "    for epoch in range(epoch_num):\n",
    "      for i in range(len(train_y)):\n",
    "        x=train_x[i].reshape(1,dim_days,dim_emb)\n",
    "        y=train_y[i].reshape(-1,1)\n",
    "        sess.run(train_step,feed_dict={ph_x:x,ph_y:y,ph_kp:0.95})\n",
    "\n",
    "    #5.predict--------------------------------------------------\n",
    "    pred_list=[]\n",
    "    for i in range(len(vali_y)):   \n",
    "      x=vali_x[i].reshape(1,dim_days,dim_emb)  \n",
    "      pred=sess.run(y_hat,feed_dict={ph_x:x,ph_kp:1.0})   \n",
    "      pred_list.append(pred[0][0])\n",
    "    \n",
    "    arr_tmp=arr[list(train_index)+list(vali_index)]\n",
    "    pred_,true_=[],[]\n",
    "    for i in range(len(vali_y)):\n",
    "      true_.append(np.exp(vali_y[i])*arr_tmp[-len(vali_y)-1+i])\n",
    "      pred_.append(np.exp(pred_list[i])*arr_tmp[-len(vali_y)-1+i])\n",
    "\n",
    "    mae_=round(mean_absolute_error(np.array(true_).reshape(-1), \n",
    "                                   np.array(pred_).reshape(-1)),6)\n",
    "    vali_mae.append(mae_)   \n",
    "\n",
    "  print('mae: ',np.mean(vali_mae),np.std(vali_mae))\n",
    "  return vali_mae"
   ]
  },
  {
   "cell_type": "code",
   "execution_count": null,
   "metadata": {
    "id": "Wnc4WVRBFeF7"
   },
   "outputs": [],
   "source": [
    "def eval_(y_pred,y_true,method='mae',vis=False):\n",
    "  # note:\n",
    "  if vis:\n",
    "    plt.rcParams[\"figure.figsize\"] = (15,5)\n",
    "    plt.plot(y_true,color='b',label='y_true')\n",
    "    plt.plot(y_pred,color='r',label='y_pred')\n",
    "    plt.ylabel('stock index')\n",
    "    plt.xlabel('time')\n",
    "    plt.legend(loc='upper right')\n",
    "    plt.show()\n",
    "\n",
    "  if method=='mae':\n",
    "    return ('MAE',round(mean_absolute_error(np.array(y_true).reshape(-1), \n",
    "                                     np.array(y_pred).reshape(-1)),4))\n",
    "  elif method=='mse':\n",
    "    return ('MSE',round(mean_squared_error(np.array(y_true).reshape(-1), \n",
    "                                    np.array(y_pred).reshape(-1)),4))"
   ]
  },
  {
   "cell_type": "markdown",
   "metadata": {
    "id": "cjQZkq7JvGfB"
   },
   "source": [
    "# 1.S&P 500"
   ]
  },
  {
   "cell_type": "code",
   "execution_count": null,
   "metadata": {
    "colab": {
     "base_uri": "https://localhost:8080/",
     "height": 540
    },
    "id": "OJwfnpFTvK6_",
    "outputId": "44f93d32-50c4-4747-d2fc-dc57d49ecac1"
   },
   "outputs": [
    {
     "name": "stdout",
     "output_type": "stream",
     "text": [
      "holdout_x1 shape= (1248, 10, 4)    test_x1 shape= (253, 10, 4)\n",
      "holdout_x2 shape= (1248, 10, 7)    test_x2 shape= (253, 10, 7)\n",
      "holdout_y shape= (1248,)    test_y shape= (253,)\n",
      "mae text_emb:  19.0378272 1.5146044781476644\n",
      "mae:  19.1351754 1.5143589345628201\n"
     ]
    },
    {
     "data": {
      "image/png": "[encoded data removed]",
      "text/plain": [
       "<Figure size 960x480 with 1 Axes>"
      ]
     },
     "metadata": {},
     "output_type": "display_data"
    }
   ],
   "source": [
    "holdout_x1,test_x1,holdout_x2,test_x2,holdout_y,test_y=\\\n",
    "generate_samples(index_name='^GSPC',emb_name='sen',dim_days=10,dim_emb=4,dim_CLSemb=7)\n",
    "\n",
    "arr=np.array(load_stockindex_('^GSPC')).reshape(-1)[11:] #dim_days + 1(logreturn)\n",
    "arr=arr[:-253] #get rid of test set\n",
    "cv_index_dict=cv_index_dict_(holdout_y)\n",
    "\n",
    "\n",
    "vali_mae_text=\\\n",
    "rnn_cv_text_(holdout_x1,test_x1,holdout_x2,test_x2,holdout_y,test_y,cv_index_dict,\n",
    "             dim_days=10,dim_emb=4,dim_CLSemb=7,dim_lstm=2,dim_fully=4,\n",
    "             epoch_num=4,lr=0.0016)\n",
    "\n",
    "vali_mae=\\\n",
    "rnn_cv_(holdout_x1,test_x1,holdout_y,test_y,cv_index_dict,\n",
    "        epoch_num=4,lr=0.0016,\n",
    "        dim_days=10,dim_emb=4,dim_lstm=2)\n",
    "\n",
    "plt.close()\n",
    "plt.figure(figsize=(12, 6), dpi=80)\n",
    "plt.scatter(x=range(10),y=vali_mae,color='r',label='RNN')\n",
    "plt.scatter(x=range(10),y=vali_mae_text,color='b',label='RNN-text_embedding')\n",
    "plt.title('S&P 500 MAE cross validation')\n",
    "plt.legend(loc='lower left')\n",
    "plt.xlabel('validation number (Monte Carlo CV)')\n",
    "plt.ylabel('S&P 500 MAE')\n",
    "plt.show()"
   ]
  },
  {
   "cell_type": "markdown",
   "metadata": {
    "id": "G5L60fFka0q3"
   },
   "source": [
    "# 2.Dow Jones Industrial"
   ]
  },
  {
   "cell_type": "code",
   "execution_count": null,
   "metadata": {
    "colab": {
     "base_uri": "https://localhost:8080/",
     "height": 540
    },
    "id": "wcTMvtX3YJzh",
    "outputId": "e783240a-58cb-4433-afeb-79604ddcd07f"
   },
   "outputs": [
    {
     "name": "stdout",
     "output_type": "stream",
     "text": [
      "holdout_x1 shape= (1248, 10, 4)    test_x1 shape= (253, 10, 4)\n",
      "holdout_x2 shape= (1248, 10, 7)    test_x2 shape= (253, 10, 7)\n",
      "holdout_y shape= (1248,)    test_y shape= (253,)\n",
      "mae text_emb:  183.34822739999998 15.051649178395703\n",
      "mae:  182.05730699999998 14.33754670587884\n"
     ]
    },
    {
     "data": {
      "image/png": "[encoded data removed]",
      "text/plain": [
       "<Figure size 960x480 with 1 Axes>"
      ]
     },
     "metadata": {},
     "output_type": "display_data"
    }
   ],
   "source": [
    "holdout_x1,test_x1,holdout_x2,test_x2,holdout_y,test_y=\\\n",
    "generate_samples(index_name='^DJI',emb_name='sen',dim_days=10,dim_emb=4,dim_CLSemb=7)\n",
    "\n",
    "arr=np.array(load_stockindex_('^DJI')).reshape(-1)[11:] #dim_days + 1(logreturn)\n",
    "arr=arr[:-253] #get rid of test set\n",
    "cv_index_dict=cv_index_dict_(holdout_y)\n",
    "\n",
    "\n",
    "vali_mae_text=\\\n",
    "rnn_cv_text_(holdout_x1,test_x1,holdout_x2,test_x2,holdout_y,test_y,cv_index_dict,\n",
    "             dim_days=10,dim_emb=4,dim_CLSemb=7,dim_lstm=2,dim_fully=4,\n",
    "             epoch_num=4,lr=0.0016)\n",
    "\n",
    "vali_mae=\\\n",
    "rnn_cv_(holdout_x1,test_x1,holdout_y,test_y,cv_index_dict,\n",
    "        epoch_num=4,lr=0.0016,\n",
    "        dim_days=10,dim_emb=4,dim_lstm=2)\n",
    "\n",
    "plt.close()\n",
    "plt.figure(figsize=(12, 6), dpi=80)\n",
    "plt.scatter(x=range(10),y=vali_mae,color='r',label='RNN')\n",
    "plt.scatter(x=range(10),y=vali_mae_text,color='b',label='RNN-text_embedding')\n",
    "plt.title('Dow Jones MAE cross validation')\n",
    "plt.legend(loc='lower left')\n",
    "plt.xlabel('validation number (Monte Carlo CV)')\n",
    "plt.ylabel('Dow Jones MAE')\n",
    "plt.show()"
   ]
  },
  {
   "cell_type": "markdown",
   "metadata": {
    "id": "RzyRnEIldF-E"
   },
   "source": [
    "# 3.Nasdaq Composite"
   ]
  },
  {
   "cell_type": "code",
   "execution_count": null,
   "metadata": {
    "colab": {
     "base_uri": "https://localhost:8080/",
     "height": 540
    },
    "id": "WgTkuEcvfs1y",
    "outputId": "0425ac8e-ac37-4f8d-c035-49eab4b7e7c3"
   },
   "outputs": [
    {
     "name": "stdout",
     "output_type": "stream",
     "text": [
      "holdout_x1 shape= (1248, 10, 4)    test_x1 shape= (253, 10, 4)\n",
      "holdout_x2 shape= (1248, 10, 7)    test_x2 shape= (253, 10, 7)\n",
      "holdout_y shape= (1248,)    test_y shape= (253,)\n",
      "mae text_emb:  68.07056129999998 4.136791758711069\n",
      "mae:  67.9421978 3.6024737979744645\n"
     ]
    },
    {
     "data": {
      "image/png": "[encoded data removed]",
      "text/plain": [
       "<Figure size 960x480 with 1 Axes>"
      ]
     },
     "metadata": {},
     "output_type": "display_data"
    }
   ],
   "source": [
    "holdout_x1,test_x1,holdout_x2,test_x2,holdout_y,test_y=\\\n",
    "generate_samples(index_name='^IXIC',emb_name='sen',dim_days=10,dim_emb=4,dim_CLSemb=7)\n",
    "\n",
    "arr=np.array(load_stockindex_('^IXIC')).reshape(-1)[11:] #dim_days + 1(logreturn)\n",
    "arr=arr[:-253] #get rid of test set\n",
    "cv_index_dict=cv_index_dict_(holdout_y)\n",
    "\n",
    "\n",
    "vali_mae_text=\\\n",
    "rnn_cv_text_(holdout_x1,test_x1,holdout_x2,test_x2,holdout_y,test_y,cv_index_dict,\n",
    "             dim_days=10,dim_emb=4,dim_CLSemb=7,dim_lstm=2,dim_fully=4,\n",
    "             epoch_num=4,lr=0.0016)\n",
    "\n",
    "vali_mae=\\\n",
    "rnn_cv_(holdout_x1,test_x1,holdout_y,test_y,cv_index_dict,\n",
    "        epoch_num=4,lr=0.0016,\n",
    "        dim_days=10,dim_emb=4,dim_lstm=2)\n",
    "\n",
    "plt.close()\n",
    "plt.figure(figsize=(12, 6), dpi=80)\n",
    "plt.scatter(x=range(10),y=vali_mae,color='r',label='RNN')\n",
    "plt.scatter(x=range(10),y=vali_mae_text,color='b',label='RNN-text_embedding')\n",
    "plt.title('Nasdaq MAE cross validation')\n",
    "plt.legend(loc='lower left')\n",
    "plt.xlabel('validation number (Monte Carlo CV)')\n",
    "plt.ylabel('Nasdaq MAE')\n",
    "plt.show()"
   ]
  },
  {
   "cell_type": "code",
   "execution_count": null,
   "metadata": {
    "id": "z-KgEJGLjIl7"
   },
   "outputs": [],
   "source": []
  }
 ],
 "metadata": {
  "colab": {
   "provenance": [],
   "toc_visible": true
  },
  "kernelspec": {
   "display_name": "Python 3 (ipykernel)",
   "language": "python",
   "name": "python3"
  },
  "language_info": {
   "codemirror_mode": {
    "name": "ipython",
    "version": 3
   },
   "file_extension": ".py",
   "mimetype": "text/x-python",
   "name": "python",
   "nbconvert_exporter": "python",
   "pygments_lexer": "ipython3",
   "version": "3.8.13"
  }
 },
 "nbformat": 4,
 "nbformat_minor": 4
}
