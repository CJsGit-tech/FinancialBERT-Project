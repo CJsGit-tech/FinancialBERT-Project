{
 "cells": [
  {
   "cell_type": "code",
   "execution_count": null,
   "id": "de4469f7-1e24-45f2-a062-eac5f9e71713",
   "metadata": {},
   "outputs": [],
   "source": [
    "import torch\n",
    "import numpy as np\n",
    "import pandas as pd\n",
    "import matplotlib.pyplot as plt\n",
    "\n",
    "from datasets import load_dataset\n",
    "from transformers import AutoModelForSequenceClassification, Trainer, TrainingArguments,AutoTokenizer,AutoConfig\n",
    "from transformers import EarlyStoppingCallback\n",
    "\n",
    "from sklearn.metrics import ConfusionMatrixDisplay, confusion_matrix, accuracy_score, f1_score"
   ]
  },
  {
   "cell_type": "markdown",
   "id": "77e88983-dd38-4b0d-a6f9-96898bf488dd",
   "metadata": {
    "tags": []
   },
   "source": [
    "### Helper Functions"
   ]
  },
  {
   "cell_type": "code",
   "execution_count": null,
   "id": "80f5be8b-9c3b-4cd3-a670-3ef042215db5",
   "metadata": {},
   "outputs": [],
   "source": [
    "def num_labels_cnvt(batch):\n",
    "    labels = [dicts[lbl] for lbl in batch['sentiment']]\n",
    "    return {'labels':labels}\n",
    "\n",
    "def tokenize(batch):\n",
    "    tokens = tokenizer(batch['text'], padding='max_length', max_length = 250, truncation=True)\n",
    "    return tokens\n",
    "\n",
    "def compute_metrics(pred):\n",
    "    labels = pred.label_ids\n",
    "    preds = pred.predictions.argmax(-1)\n",
    "    f1 = f1_score(labels, preds, average=\"weighted\")\n",
    "    acc = accuracy_score(labels, preds)\n",
    "    return {\"accuracy\": acc, \"f1\": f1}\n",
    "\n",
    "def data_encoder(root, train_file, valid_file):\n",
    "    dataset = load_dataset(path = root,\n",
    "                            data_files={'train': train_file, 'valid': valid_file})\n",
    "    dataset = dataset.map(num_labels_cnvt, batched=True)\n",
    "    \n",
    "    dataset_encoded = dataset.map(tokenize,batched=True)\n",
    "    dataset_encoded.set_format(type='torch',columns=[\"input_ids\",\"attention_mask\",\"labels\"])\n",
    "    return dataset_encoded"
   ]
  },
  {
   "cell_type": "markdown",
   "id": "6bc014f1-7102-42bb-88a2-24ce89be4805",
   "metadata": {},
   "source": [
    "### Tokenizer & Model "
   ]
  },
  {
   "cell_type": "code",
   "execution_count": null,
   "id": "c903412e-835d-4f0e-ba17-760fde94d6ef",
   "metadata": {
    "tags": []
   },
   "outputs": [],
   "source": [
    "num_labels = 2\n",
    "device = 'cpu'\n",
    "model_ckpt = 'distilbert-base-cased'\n",
    "\n",
    "# Loading Models\n",
    "tokenizer = AutoTokenizer.from_pretrained(model_ckpt)\n",
    "fine_model = AutoModelForSequenceClassification.from_pretrained(model_ckpt,num_labels=num_labels).to(device)"
   ]
  },
  {
   "cell_type": "markdown",
   "id": "3c848509-8c5e-4873-ac75-f2d501a5b856",
   "metadata": {
    "tags": []
   },
   "source": [
    "### Encoding Data"
   ]
  },
  {
   "cell_type": "code",
   "execution_count": null,
   "id": "c7619c89-04b1-414e-9c84-945eeee2e3ab",
   "metadata": {},
   "outputs": [],
   "source": [
    "dicts = {'negative':0,'positive':1}\n",
    "root = '../data/BERT/'\n",
    "train = 'articles_2015_2019_train_fold-1.csv'\n",
    "valid = 'articles_2015_2019_valid_fold-1.csv'\n",
    "####################################################################################\n",
    "encoded_dataset = data_encoder(root,train,valid)"
   ]
  },
  {
   "cell_type": "markdown",
   "id": "774b728f-5ba7-4b85-8ece-fa8e0a4d3b0a",
   "metadata": {},
   "source": [
    "### Model Training"
   ]
  },
  {
   "cell_type": "code",
   "execution_count": null,
   "id": "26e1142c-697f-4360-88e7-47191a1ace55",
   "metadata": {
    "tags": []
   },
   "outputs": [],
   "source": [
    "batch_size = 16\n",
    "logging_steps = len(encoded_dataset['train']) // batch_size\n",
    "model_name = f\"CVs/fold-10/fold_10-distilbert-base-cased-Adamw\"\n",
    "\n",
    "training_args = TrainingArguments(output_dir=model_name,\n",
    "                                  num_train_epochs=15,\n",
    "                                  learning_rate=2e-6,\n",
    "                                  per_device_train_batch_size=batch_size,\n",
    "                                  per_device_eval_batch_size=batch_size,\n",
    "                                  weight_decay=0.0001,\n",
    "                                  \n",
    "                                  #### EarlyStopping\n",
    "                                  evaluation_strategy = 'epoch',\n",
    "                                  save_strategy='epoch',\n",
    "                                  load_best_model_at_end = True,\n",
    "                                  metric_for_best_model = 'f1',\n",
    "                                  ##########\n",
    "                                  \n",
    "                                  disable_tqdm=False,\n",
    "                                  logging_steps=logging_steps,\n",
    "                                  push_to_hub=False,\n",
    "                                  no_cuda=False,\n",
    "                                  log_level=\"error\",\n",
    "                                  # optim = 'sgd'\n",
    "                                 )\n",
    "\n",
    "trainer = Trainer(model=fine_model, \n",
    "                  tokenizer=tokenizer,\n",
    "                  args=training_args,\n",
    "                  compute_metrics=compute_metrics,\n",
    "                  train_dataset=encoded_dataset['train'],\n",
    "                  eval_dataset=encoded_dataset['valid'],\n",
    "                  callbacks = [EarlyStoppingCallback(early_stopping_patience=2)]\n",
    "                 )\n",
    "\n",
    "results = trainer.train()"
   ]
  },
  {
   "cell_type": "markdown",
   "id": "eb99001e-686a-4aa9-b9d8-b6cb008745e8",
   "metadata": {
    "tags": []
   },
   "source": [
    "## Evaluation "
   ]
  },
  {
   "cell_type": "code",
   "execution_count": null,
   "id": "491676fa-70c3-4ece-a102-09041f8c3699",
   "metadata": {},
   "outputs": [],
   "source": [
    "predictions = trainer.predict(encoded_dataset['valid'])"
   ]
  },
  {
   "cell_type": "code",
   "execution_count": null,
   "id": "452acb7a-d673-4a6f-8a3f-5a4fc44c9416",
   "metadata": {},
   "outputs": [],
   "source": [
    "y_true = predictions.label_ids"
   ]
  },
  {
   "cell_type": "code",
   "execution_count": null,
   "id": "4afcd3be-70de-43da-8a5c-ea653a0288c0",
   "metadata": {},
   "outputs": [],
   "source": [
    "y_pred = np.argmax(predictions.predictions,axis=1)"
   ]
  },
  {
   "cell_type": "code",
   "execution_count": null,
   "id": "27e33e2c-c85d-4009-bc11-509f1368c37c",
   "metadata": {},
   "outputs": [],
   "source": [
    "print(f1_score(y_pred,y_true,average='micro'))"
   ]
  },
  {
   "cell_type": "code",
   "execution_count": null,
   "id": "7a098e40-1a40-4849-8b38-ca15ac18b1a9",
   "metadata": {},
   "outputs": [],
   "source": [
    "ConfusionMatrixDisplay.from_predictions(y_true,y_pred,cmap='Blues',normalize='true')"
   ]
  },
  {
   "cell_type": "code",
   "execution_count": null,
   "id": "fa33144e-7acb-4157-a217-34f44a5a3c9b",
   "metadata": {},
   "outputs": [],
   "source": []
  }
 ],
 "metadata": {
  "kernelspec": {
   "display_name": "Python 3 (ipykernel)",
   "language": "python",
   "name": "python3"
  },
  "language_info": {
   "codemirror_mode": {
    "name": "ipython",
    "version": 3
   },
   "file_extension": ".py",
   "mimetype": "text/x-python",
   "name": "python",
   "nbconvert_exporter": "python",
   "pygments_lexer": "ipython3",
   "version": "3.8.13"
  }
 },
 "nbformat": 4,
 "nbformat_minor": 5
}
