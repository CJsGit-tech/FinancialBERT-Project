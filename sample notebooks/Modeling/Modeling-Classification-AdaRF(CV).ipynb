{
 "cells": [
  {
   "cell_type": "code",
   "execution_count": null,
   "metadata": {
    "id": "Fhz2ceSfhsyp"
   },
   "outputs": [],
   "source": [
    "# installs\n",
    "%%capture\n",
    "!pip install yfinance\n",
    "!pip install ta\n",
    "!pip install h5py\n",
    "!pip install import-ipynb\n",
    "!pip install optuna\n",
    "!pip install joblib"
   ]
  },
  {
   "cell_type": "code",
   "execution_count": null,
   "metadata": {
    "id": "oXUPTi1Wh0L0"
   },
   "outputs": [],
   "source": [
    "# imports\n",
    "import yfinance as yf\n",
    "from datetime import datetime\n",
    "import seaborn as sns\n",
    "import matplotlib.pyplot as plt\n",
    "import ta\n",
    "import numpy as np\n",
    "import pandas as pd\n",
    "from sklearn.preprocessing import StandardScaler\n",
    "from sklearn.metrics import accuracy_score, f1_score, mean_absolute_error, mean_squared_error\n",
    "from google.colab import drive\n",
    "import os\n",
    "import datetime as dt\n",
    "from numpy.random import seed\n",
    "import random\n",
    "from sklearn.metrics import f1_score\n",
    "from sklearn.dummy import DummyClassifier\n",
    "import import_ipynb\n",
    "from tqdm import tqdm\n",
    "import optuna\n",
    "import joblib\n",
    "import ast\n",
    "\n",
    "from sklearn.metrics import f1_score\n",
    "from sklearn.ensemble import AdaBoostClassifier\n",
    "from sklearn.ensemble import RandomForestClassifier\n",
    "\n",
    "import warnings\n",
    "warnings.filterwarnings(\"ignore\")"
   ]
  },
  {
   "cell_type": "code",
   "execution_count": null,
   "metadata": {
    "colab": {
     "base_uri": "https://localhost:8080/"
    },
    "id": "OSyIonS5-s5D",
    "outputId": "6d00369f-63d1-445a-f91b-b40d36b434b6"
   },
   "outputs": [
    {
     "name": "stdout",
     "output_type": "stream",
     "text": [
      "/content/drive/.shortcut-targets-by-id/1s_50o_NM2piIAtPzi6aHDj-XvivZLePw/MADS CAPSTONE/source code/Monte Carlo CV\n",
      "importing Jupyter notebook from mccv.ipynb\n"
     ]
    }
   ],
   "source": [
    "# Import MonteCarlo CV from mccv notebook\n",
    "\n",
    "# specify working directory\n",
    "%cd './utils'\n",
    "import mccv\n",
    "from mccv import MonteCarloCV"
   ]
  },
  {
   "cell_type": "markdown",
   "metadata": {
    "id": "gTrGtyZ-J8IS"
   },
   "source": [
    "# 0. Set main path"
   ]
  },
  {
   "cell_type": "code",
   "execution_count": null,
   "metadata": {
    "id": "mWKDSjvvJ_1g"
   },
   "outputs": [],
   "source": [
    "# These are the path variables\n",
    "\n",
    "# path to data not retrieved directly from Yfinance\n",
    "dataset_path = '../data/Dataset_CNN'\n",
    "\n",
    "# path to pooled cls folder\n",
    "pooled_CLS_path = '../data/CLS/Pooled_CLS'\n",
    "\n",
    "# path to overall sentiment df\n",
    "overall_sent_path = '../data/lexicon/df_overall_sentiment_2014_2020.csv'\n",
    "\n",
    "# path to lexicon approach for sentiment\n",
    "loughran_path = '../data/lexicon/df_news_sentiment_LMDictionary.csv'\n",
    "\n",
    "# path to CLSV3 folder\n",
    "clsv3_path = '../data/CLS/CLSv3'\n",
    "\n",
    "# path to Optuna folder\n",
    "optuna_path = '../data/Optuna'\n"
   ]
  },
  {
   "cell_type": "markdown",
   "metadata": {
    "id": "hhm2o18fh6qT"
   },
   "source": [
    "# 1. Data Acquisition"
   ]
  },
  {
   "cell_type": "code",
   "execution_count": null,
   "metadata": {
    "id": "7dpeZ8ZLiAZv"
   },
   "outputs": [],
   "source": [
    "# Get Yahoo Finance data\n",
    "\n",
    "# 1. Create tickers for YFinance\n",
    "tickers = {'SP500':'^GSPC','DJI':'^DJI','Nasdaq':'^IXIC','RU3000':'^RUA','NI225':'^N225','HangSeng':'^HSI','SSE':'000001.SS',\n",
    "           'CAC':'^FCHI','FTSE':'^FTSE','DAX':'^GDAXI','JPY':'JPY=X','GBP':'GBPUSD=X','CAD':'CAD=X','CNY':'CNY=X','AUD':'AUDUSD=X','NZD':'NZDUSD=X',\n",
    "           'CHF':'CHF=X','EUR':'EURUSD=X','Dollar_idx':'DX-Y.NYB','Exxon':'XOM','JPM':'JPM','Apple':'AAPL','MSFT':'MSFT','GE':'GE','J&J':'JNJ',\n",
    "           'WellsFargo':'WFC','Amazon':'AMZN'}\n",
    "yf_data = {}\n",
    "\n",
    "# 2. Create history, remove stocks splits and dividends, convert date as timestamp and set as index\n",
    "for tick in tickers.keys():\n",
    "  # retrieve the ticker\n",
    "  ticker = tickers[tick]\n",
    "  # get data from Yfinance\n",
    "  df = yf.Ticker(ticker).history(start='2014-01-01',end='2020-12-31')\n",
    "  df.reset_index(inplace=True)\n",
    "  # only keep Close and Date\n",
    "  df = df[['Date','Close']].copy()\n",
    "  # convert index with only dates not time info (first extract date as string then reconvert in timestamp), ensure sorting ascending\n",
    "  df['Date'] = df['Date'].dt.date.astype(str)\n",
    "  df['Date'] = pd.to_datetime(df['Date'])\n",
    "  df.set_index('Date',inplace=True)\n",
    "  df.sort_index(ascending=True,inplace=True)\n",
    "  # rename column\n",
    "  df.columns = [tick+'_Close']\n",
    "  # compute daily return\n",
    "  df[tick+'_daily_return'] = df[tick+'_Close'].pct_change(1)\n",
    "  # drop close price\n",
    "  df.drop(tick+'_Close',axis=1,inplace=True)\n",
    "  # drop first row and record\n",
    "  yf_data[tick] = df.iloc[1:]"
   ]
  },
  {
   "cell_type": "code",
   "execution_count": null,
   "metadata": {
    "id": "k6AzYvOPiDVA"
   },
   "outputs": [],
   "source": [
    "# 3. Read all csv files and compute daily return\n",
    "csv_data = {} \n",
    "\n",
    "for csv in os.listdir(dataset_path):\n",
    "  # read files, retrive only price and convert date to timestamp and set as index\n",
    "  # the first 2 columns are always data and price/quote\n",
    "  df = pd.read_csv(dataset_path+'/'+csv).iloc[:,:2]\n",
    "  # rename columns\n",
    "  df.columns = ['Date','Price']\n",
    "  # get rid of '.' when no data is available at this date and ',' for separators, convert price to float\n",
    "  df = df[df['Price']!='.'].copy()\n",
    "  if df['Price'].dtype==object:\n",
    "    df['Price'] = df['Price'].apply(lambda x: x.replace(',',''))\n",
    "    df['Price'] = df['Price'].astype(float)\n",
    "  # convert to datetime and set date as index, ensure sorted in ascending\n",
    "  df['Date'] = pd.to_datetime(df['Date'])\n",
    "  df.set_index('Date',inplace=True)\n",
    "  df.sort_index(ascending=True,inplace=True)\n",
    "  # compute daily return except if rates data\n",
    "  if csv.replace('.csv','') not in ['DTB3','DTB6','DTB4WK','DGS5','DGS10','DAAA','DBAA']:\n",
    "    df[csv.replace('.csv','')+'_daily_return'] = df['Price'].pct_change(1)\n",
    "    # drop first row and price and record\n",
    "    df.drop('Price',axis=1,inplace=True)\n",
    "    csv_data[csv.replace('.csv','')] = df.iloc[1:]\n",
    "  else:\n",
    "    df.columns = [csv.replace('.csv','')+'_Price']\n",
    "    csv_data[csv.replace('.csv','')] = df"
   ]
  },
  {
   "cell_type": "code",
   "execution_count": null,
   "metadata": {
    "id": "rAHEl1G7icus"
   },
   "outputs": [],
   "source": [
    "# Read the  various embeddings\n",
    "\n",
    "## Read embeddings first version\n",
    "text_test = pd.read_csv(pooled_CLS_path+'/pooled_aggregated_CLS_test_2020.csv')\n",
    "text_train_uw = pd.read_csv(pooled_CLS_path+'/pooled_aggregated_CLS_training_2015_2019_Unweighted.csv')\n",
    "text_train_w = pd.read_csv(pooled_CLS_path+'/pooled_aggregated_CLS_training_2015_2019_Weighted.csv')\n",
    "\n",
    "## Combine the files\n",
    "text_train_uw.rename(columns={'timestamp':'Date'},inplace=True)\n",
    "text_train_w.rename(columns={'timestamp':'Date'},inplace=True)\n",
    "text_test.set_index('Date',inplace=True)\n",
    "text_train_uw.set_index('Date',inplace=True)\n",
    "text_train_w.set_index('Date',inplace=True)\n",
    "text_w = pd.concat([text_train_w,text_test]).sort_index(ascending=True)\n",
    "text_uw = pd.concat([text_train_uw,text_test]).sort_index(ascending=True)\n",
    "\n",
    "## 1. Sentiment probability\n",
    "text_lex = pd.read_csv(overall_sent_path)\n",
    "text_lex['Date'] = pd.to_datetime(text_lex['timestamp'])\n",
    "text_lex.set_index('Date',inplace=True)\n",
    "text_lex.sort_index(inplace=True,ascending=True)\n",
    "text_lex = text_lex['overall_sentiment'].to_frame().copy()\n",
    "\n",
    "## 2. Loughran\n",
    "text_loughran = pd.read_csv(loughran_path)\n",
    "text_loughran['Date'] = pd.to_datetime(text_loughran['timestamp'])\n",
    "text_loughran.set_index('Date',inplace=True)\n",
    "text_loughran.sort_index(inplace=True,ascending=True)\n",
    "text_loughran.drop(labels=['Unnamed: 0','timestamp'],axis=1,inplace=True)\n",
    "text_loughran = text_loughran.apply(lambda x: x/x.sum(),axis=1) # we normalize the count of words by the total number of words at a given data\n",
    "\n",
    "## 3. Pooled_CLSv3\n",
    "\n",
    "### Iterate through folds 1 to 10\n",
    "text_v3 = []\n",
    "\n",
    "for fold in range(1,11):\n",
    "  if fold>=6:\n",
    "    path = clsv3_path+f'/fold-{fold}/articles_2015_2019_train_fold-{fold}_CLS-2.txt'\n",
    "    with open(path, 'r') as j:\n",
    "      contents = ast.literal_eval(j.read())\n",
    "    text_train_v3 = pd.DataFrame(contents).T\n",
    "    path = clsv3_path+f'/fold-{fold}/articles_2015_2019_valid_fold-{fold}_CLS-2.txt'\n",
    "    with open(path, 'r') as j:\n",
    "      contents = ast.literal_eval(j.read())\n",
    "    text_valid_v3 = pd.DataFrame(contents).T\n",
    "    df = pd.concat([text_train_v3,text_valid_v3]).sort_index(ascending=True)\n",
    "    # append start and end dates of df that we will use to check what fold it is\n",
    "    text_v3_fold = (f'fold_{fold}',df.index[0],df.index[-1],df)\n",
    "  else:\n",
    "    path = clsv3_path+f'/fold-{fold}/articles_2015_2019_train_fold-{fold}_CLS.txt'\n",
    "    with open(path, 'r') as j:\n",
    "      contents = ast.literal_eval(j.read())\n",
    "    text_train_v3 = pd.DataFrame(contents).T\n",
    "    path = clsv3_path+f'/fold-{fold}/articles_2015_2019_valid_fold-{fold}_CLS.txt'\n",
    "    with open(path, 'r') as j:\n",
    "      contents = ast.literal_eval(j.read())\n",
    "    text_valid_v3 = pd.DataFrame(contents).T\n",
    "    df = pd.concat([text_train_v3,text_valid_v3]).sort_index(ascending=True)\n",
    "    # append start and end dates of df that we will use to check what fold it is\n",
    "    text_v3_fold = (f'fold_{fold}',df.index[0],df.index[-1],df)\n",
    "\n",
    "  text_v3.append(text_v3_fold)"
   ]
  },
  {
   "cell_type": "markdown",
   "metadata": {
    "id": "gIutbo-YkszB"
   },
   "source": [
    "# 2. Features Creation"
   ]
  },
  {
   "cell_type": "code",
   "execution_count": null,
   "metadata": {
    "id": "VaLk4K0DkwNd"
   },
   "outputs": [],
   "source": [
    "def prep_data2d(target,target_name):\n",
    "  '''target: target is a value in the tickers dictionnary\n",
    "  target_name: key in the tickers dictionnary\n",
    "  '''\n",
    "  # merge data, create list of objects\n",
    "  list_obj = list(csv_data.values())+list(yf_data.values())\n",
    "  df = list_obj[0]\n",
    "  for data in list_obj[1:]:\n",
    "    df = df.merge(right=data,left_index=True,right_index=True,how='outer')\n",
    "  # create spread data, give same name than in paper\n",
    "  df['TE1'] = df['DGS10_Price']-df['DTB4WK_Price']\n",
    "  df['TE2'] = df['DGS10_Price']-df['DTB3_Price']\n",
    "  df['TE3'] = df['DGS10_Price']-df['DTB6_Price']\n",
    "  df['TE4']= df['DTB3_Price']-df['DTB4WK_Price']\n",
    "  df['TE5'] = df['DTB6_Price']-df['DTB4WK_Price']\n",
    "  df['DE1'] = df['DBAA_Price']-df['DAAA_Price']\n",
    "  df['DE2'] = df['DBAA_Price']-df['DGS10_Price']\n",
    "  df['DE3'] = df['DBAA_Price']-df['DTB6_Price']\n",
    "  df['DE4'] = df['DBAA_Price']-df['DTB3_Price']\n",
    "  df['DE5'] = df['DBAA_Price']-df['DTB4WK_Price']\n",
    "  # create day of the week\n",
    "  df['Day'] = df.index.weekday\n",
    "  # filter out days for which we have no info on target\n",
    "  df = df[~df[target_name+'_daily_return'].isna()].copy()\n",
    "  # add technical indicators to the target\n",
    "  ## 1. Relative change of volume\n",
    "  volume = yf.Ticker(target).history(start='2014-01-01',end='2020-12-31')\n",
    "  volume.reset_index(inplace=True)\n",
    "  volume['Date'] = volume['Date'].dt.date.astype(str)\n",
    "  volume['Date'] = pd.to_datetime(volume['Date'])\n",
    "  volume.set_index('Date',inplace=True)\n",
    "  volume['Vol_daily_return'] = volume['Volume'].pct_change(1)\n",
    "  df = df.merge(right=volume['Vol_daily_return'],left_index=True,right_index=True,how='outer')\n",
    "  # also add the Close price as we will need it just after\n",
    "  df = df.merge(right=volume['Close'],left_index=True,right_index=True,how='outer')\n",
    "  df.rename(columns={'Close':target_name+'_Close'},inplace=True)\n",
    "  ## 2. Return 1,2 and 3,5,10,15 and 20 days before\n",
    "  df[target_name+'_daily_return_-1d'] = df[target_name+'_daily_return'].shift(1)\n",
    "  df[target_name+'_daily_return_-2d'] = df[target_name+'_daily_return'].shift(2)\n",
    "  df[target_name+'_daily_return_-3d'] = df[target_name+'_daily_return'].shift(3)\n",
    "  df[target_name+'_daily_return_-5d'] = df[target_name+'_daily_return'].shift(5)\n",
    "  df[target_name+'_daily_return_-10d'] = df[target_name+'_daily_return'].shift(10)\n",
    "  df[target_name+'_daily_return_-15d'] = df[target_name+'_daily_return'].shift(15)\n",
    "  df[target_name+'_daily_return_-20d'] = df[target_name+'_daily_return'].shift(20)\n",
    "  ## 3. Exponential Moving Average at 10,20,50 and 200 days\n",
    "  df['EMA_10'] = ta.trend.EMAIndicator(close=df[target_name+'_Close'],window=10).ema_indicator()\n",
    "  df['EMA_20'] = ta.trend.EMAIndicator(close=df[target_name+'_Close'],window=20).ema_indicator()\n",
    "  df['EMA_50'] = ta.trend.EMAIndicator(close=df[target_name+'_Close'],window=50).ema_indicator()\n",
    "  df['EMA_200'] = ta.trend.EMAIndicator(close=df[target_name+'_Close'],window=200).ema_indicator()\n",
    "\n",
    "  # return 5 month before start 2015 and a few month after end of 2020\n",
    "  start = dt.datetime.strptime('01-01-2014','%m-%d-%Y')\n",
    "  end = dt.datetime.strptime('03-01-2021','%m-%d-%Y')\n",
    "  return df.loc[start:end]"
   ]
  },
  {
   "cell_type": "markdown",
   "metadata": {
    "id": "8z4TPxhBw20z"
   },
   "source": [
    "# 3. Data Preparation"
   ]
  },
  {
   "cell_type": "code",
   "execution_count": null,
   "metadata": {
    "id": "xtc6-j5vTTLc"
   },
   "outputs": [],
   "source": [
    "def gen_train_test_tab(seq_len,start_training,start_valid,end_valid,objective='Regression',\n",
    "                     target_market_name='SP500',target_market_ticker='^GSPC',target_reg='daily_return_+1day',scale=True):\n",
    "  \"Return array of all test samples\"\n",
    "\n",
    "  # get the data anf fill forward na\n",
    "  df = prep_data2d(target_market_ticker,target_market_name)\n",
    "  df = df.fillna(method='ffill')\n",
    "\n",
    "  # define the list of markets\n",
    "  markets = ['SP500','DJI','Nasdaq','RU3000']\n",
    "  # remove the non target markets\n",
    "  to_remove = [x for x in markets if x not in target_market_name]\n",
    "  to_remove = [x+'_daily_return' for x in to_remove]\n",
    "  df.drop(labels=to_remove,axis=1,inplace=True)\n",
    "\n",
    "  # compute the lags according to lenght of sequence\n",
    "  if seq_len>0:\n",
    "    lagged_dfs = []\n",
    "    for i in range(1,seq_len+1):\n",
    "      lagged_df = df.shift(i)\n",
    "      lagged_df.columns = [c+'lag_'+str(i) for c in df.columns]\n",
    "      lagged_dfs.append(lagged_df)\n",
    "    # concat the columns\n",
    "    df = pd.concat([df]+lagged_dfs,axis=1)\n",
    "\n",
    "  \n",
    "  if objective == 'Classification':\n",
    "    # create y_target (next day up-->1 else 0)\n",
    "    df['U/D_+1d'] = df[target_market_name+'_daily_return'].shift(-1).apply(lambda x: 1 if x>0 else 0)\n",
    "    targetcol = 'U/D_+1d'\n",
    "  elif objective=='Regression':\n",
    "    if target_reg=='daily_return_+1day':\n",
    "      df['daily_return_+1day'] = df[target_market_name+'_daily_return'].shift(-1)\n",
    "    elif target_reg=='close_+1day':\n",
    "      df['close_+1day'] = df[target_market_name+'_Close'].shift(-1)\n",
    "    else:\n",
    "      print('The target_reg must be daily_return_+1day or close_+1day')\n",
    "      return None\n",
    "    targetcol = target_reg\n",
    "  else:\n",
    "    print('The objective must be Classification or Regression')\n",
    "    return None\n",
    "  \n",
    "  # restrict df to our range of train and valid\n",
    "  start_training = dt.datetime.strptime(start_training,'%Y-%m-%d')\n",
    "  end_valid = dt.datetime.strptime(end_valid,'%Y-%m-%d')\n",
    "  start_valid = dt.datetime.strptime(start_valid,'%Y-%m-%d')\n",
    "  df_train = df.loc[start_training:end_valid].copy()\n",
    "\n",
    "\n",
    "  input_cols = [c for c in df.columns if c != targetcol]\n",
    "  input_cols_idx = [df.columns.get_loc(c) for c in input_cols]\n",
    "  # find the start of valid sample as provided\n",
    "  t = df_train.index[df_train.index >= start_valid][0]\n",
    "  n = (df_train.index == t).argmax() # find the absolute position of start of valid date\n",
    "\n",
    "  \n",
    "  # check if scaling or not\n",
    "  if scale:\n",
    "    # normalize features\n",
    "    sc = StandardScaler()\n",
    "    # fit scaler on train part\n",
    "    sc.fit(df_train.iloc[:n,input_cols_idx]) # the train part is up to n-1 so iloc[:n]\n",
    "    df_train.iloc[:n,input_cols_idx] = sc.transform(df_train.iloc[:n,input_cols_idx])\n",
    "    # just transform valid\n",
    "    df_train.iloc[n:,input_cols_idx] = sc.transform(df_train.iloc[n:,input_cols_idx]) # test part starts at n so iloc[n:]\n",
    "\n",
    "\n",
    "  else:\n",
    "    # do nothing\n",
    "    pass\n",
    "\n",
    "\n",
    "  # retrieve validation\n",
    "  X_valid, y_valid = df_train.iloc[n+1:][input_cols], df_train.iloc[n+1:][targetcol]\n",
    "\n",
    "  # find the end of train sample\n",
    "  t = df_train.index[df_train.index < start_valid][-1]\n",
    "  n = (df_train.index == t).argmax()\n",
    "\n",
    "  # retrieve train\n",
    "  X_train, y_train = df_train.iloc[:n+1][input_cols], df_train.iloc[:n+1][targetcol]\n",
    "\n",
    "  return X_train, X_valid,y_train,y_valid"
   ]
  },
  {
   "cell_type": "code",
   "execution_count": null,
   "metadata": {
    "id": "b8Ayuw3zX7sq"
   },
   "outputs": [],
   "source": [
    "def gen_train_test_text_tab(seq_len,start_training,start_valid,end_valid,objective='Regression',\n",
    "                     target_market_name='SP500',target_market_ticker='^GSPC',target_reg='daily_return_+1day',scale_features=True,text_data=text_uw):\n",
    "  \"Return array of all test samples\"\n",
    "\n",
    "  # get the data anf fill forward na\n",
    "  df = prep_data2d(target_market_ticker,target_market_name)\n",
    "  df = df.fillna(method='ffill')\n",
    "\n",
    "  # define the list of markets\n",
    "  markets = ['SP500','DJI','Nasdaq','RU3000']\n",
    "  # remove the non target markets\n",
    "  to_remove = [x for x in markets if x not in target_market_name]\n",
    "  to_remove = [x+'_daily_return' for x in to_remove]\n",
    "  df.drop(labels=to_remove,axis=1,inplace=True)\n",
    "  \n",
    "  if objective == 'Classification':\n",
    "    # create y_target (next day up-->1 else 0)\n",
    "    df['U/D_+1d'] = df[target_market_name+'_daily_return'].shift(-1).apply(lambda x: 1 if x>0 else 0)\n",
    "    targetcol = 'U/D_+1d'\n",
    "  elif objective=='Regression':\n",
    "    if target_reg=='daily_return_+1day':\n",
    "      df['daily_return_+1day'] = df[target_market_name+'_daily_return'].shift(-1)\n",
    "    elif target_reg=='close_+1day':\n",
    "      df['close_+1day'] = df[target_market_name+'_Close'].shift(-1)\n",
    "    else:\n",
    "      print('The target_reg must be daily_return_+1day or close_+1day')\n",
    "      return None\n",
    "    targetcol = target_reg\n",
    "  else:\n",
    "    print('The objective must be Classification or Regression')\n",
    "    return None\n",
    "\n",
    "  # convert text_data index in time stamp and rename columns\n",
    "  text_data.index = pd.to_datetime(text_data.index)\n",
    "  text_data.columns = ['text_'+c for c in text_data.columns]\n",
    "\n",
    "  # join with the text data on the dates. Ignore articles on day the index does not trade, so left merge\n",
    "  df = df.merge(text_data,how='left',left_index=True,right_index=True)\n",
    "\n",
    "  # compute the lags according to lenght of sequence\n",
    "  if seq_len>0:\n",
    "    lagged_dfs = []\n",
    "    for i in range(1,seq_len+1):\n",
    "      lagged_df = df.shift(i)\n",
    "      lagged_df.columns = [c+'lag_'+str(i) for c in df.columns]\n",
    "      lagged_dfs.append(lagged_df)\n",
    "    # concat the columns\n",
    "    df = pd.concat([df]+lagged_dfs,axis=1)\n",
    "    # fill na backwards for text dimensions\n",
    "    df = df.fillna(method='bfill')\n",
    "\n",
    "  # restrict df to our range of train and valid\n",
    "  start_training = dt.datetime.strptime(start_training,'%Y-%m-%d')\n",
    "  end_valid = dt.datetime.strptime(end_valid,'%Y-%m-%d')\n",
    "  start_valid = dt.datetime.strptime(start_valid,'%Y-%m-%d')\n",
    "  df_train = df.loc[start_training:end_valid].copy()\n",
    "  text_train = text_data.loc[start_training:end_valid].copy()\n",
    "\n",
    "  input_cols = [c for c in df.columns if c != targetcol]\n",
    "  input_cols_idx = [df.columns.get_loc(c) for c in input_cols]\n",
    "  # find the start of valid sample as provided\n",
    "  t = df_train.index[df_train.index >= start_valid][0]\n",
    "  n = (df_train.index == t).argmax() # find the absolute position of start of valid date\n",
    "\n",
    "  # check if normalization\n",
    "  if scale_features:\n",
    "  # normalize features\n",
    "    sc = StandardScaler()\n",
    "    # fit scaler on train part\n",
    "    sc.fit(df_train.iloc[:n,input_cols_idx]) # the train part is up to n-1 so iloc[:n]\n",
    "    df_train.iloc[:n,input_cols_idx] = sc.transform(df_train.iloc[:n,input_cols_idx])\n",
    "    # just transform valid\n",
    "    df_train.iloc[n:,input_cols_idx] = sc.transform(df_train.iloc[n:,input_cols_idx]) # test part starts at n so iloc[n:]\n",
    "\n",
    "  # retrieve validation\n",
    "  X_valid, y_valid = df_train.iloc[n+1:][input_cols], df_train.iloc[n+1:][targetcol]\n",
    "\n",
    "  # find the end of train sample\n",
    "  t = df_train.index[df_train.index < start_valid][-1]\n",
    "  n = (df_train.index == t).argmax()\n",
    "\n",
    "  # retrieve train\n",
    "  X_train, y_train = df_train.iloc[:n+1][input_cols], df_train.iloc[:n+1][targetcol]\n",
    "\n",
    "  return X_train, X_valid,y_train,y_valid"
   ]
  },
  {
   "cell_type": "markdown",
   "metadata": {
    "id": "DhE92CLxs3sr"
   },
   "source": [
    "# Model"
   ]
  },
  {
   "cell_type": "code",
   "execution_count": null,
   "metadata": {
    "id": "oO39_ypUl-Ap"
   },
   "outputs": [],
   "source": [
    "def model_(target_market_name='SP500',target_market_ticker='^GSPC'):\n",
    "\n",
    "  mccv = MonteCarloCV(n_splits=10,train_size=0.6,test_size=0.2,gap=0,seed=42)\n",
    "  sp_dates = yf_data[target_market_name].loc['2015-01-01':'2019-12-31'].sort_index(ascending=True).reset_index()\n",
    "\n",
    "  f1 = []\n",
    "  f1_withtext=[]\n",
    "\n",
    "  for fold, (train_index,valid_index) in tqdm(enumerate(mccv.split(sp_dates))):\n",
    "    seq_len=0\n",
    "    start_training=str(sp_dates['Date'][train_index[0]])[:10]   \n",
    "    start_valid=str(sp_dates['Date'][valid_index[0]])[:10]\n",
    "    end_valid=str(sp_dates['Date'][valid_index[-1]])[:10]\n",
    "    print(fold,' ',start_training,' ',start_valid,' ',end_valid)\n",
    "\n",
    "    scale=False\n",
    "    text_data = text_loughran\n",
    "    X_train,X_valid,y_train,y_valid = gen_train_test_tab(seq_len,start_training,start_valid,end_valid,'Classification',target_market_name,target_market_ticker,scale=scale)\n",
    "    #print(X_train.shape,X_valid.shape,y_train.shape,y_valid.shape)\n",
    "    X_train_text,X_valid_text,y_train_text,y_valid_text = gen_train_test_text_tab(seq_len,start_training,start_valid,end_valid,'Classification',target_market_name,target_market_ticker,scale_features=scale,text_data=text_data)\n",
    "    #print(X_train_text.shape,X_valid_text.shape,y_train_text.shape,y_valid_text.shape)\n",
    "  \n",
    "    clf=AdaBoostClassifier(random_state=42,\n",
    "                           base_estimator=RandomForestClassifier(criterion='entropy',random_state=42))\n",
    "    clf.fit(X_train,y_train)\n",
    "    y_pred=clf.predict(X_valid)\n",
    "    f1.append(f1_score(y_valid,y_pred,average='macro'))\n",
    "\n",
    "    clf_text=AdaBoostClassifier(random_state=42,\n",
    "                                base_estimator=RandomForestClassifier(criterion='entropy',random_state=42))\n",
    "    clf_text.fit(X_train_text,y_train_text)\n",
    "    y_pred_text=clf_text.predict(X_valid_text)\n",
    "    f1_withtext.append(f1_score(y_valid_text,y_pred_text,average='macro'))\n",
    "\n",
    "  plt.close()\n",
    "  plt.figure(figsize=(12, 6), dpi=80)\n",
    "  plt.scatter(x=range(10),y=f1,color='r',label='AdaRF')\n",
    "  plt.scatter(x=range(10),y=f1_withtext,color='b',label='AdaRF-text_embedding')\n",
    "  plt.title('f1 score cross validation')\n",
    "  plt.legend(loc='lower left')\n",
    "  plt.xlabel('validation number (Monte Carlo CV)')\n",
    "  plt.ylabel('f1 score')\n",
    "  plt.show()\n",
    "\n",
    "  #---------------------------------------------\n",
    "  print('f1',np.mean(f1),np.std(f1))\n",
    "  print('f1_withtext',np.mean(f1_withtext),np.std(f1_withtext))\n",
    "\n",
    "  sp_dates = yf_data[target_market_name].loc['2015-01-01':'2020-12-31'].sort_index(ascending=True).reset_index()\n",
    "  seq_len=0\n",
    "  start_training='2015-01-01'   \n",
    "  start_valid='2020-01-01'\n",
    "  end_valid='2020-12-31'\n",
    "  scale=False\n",
    "  text_data = text_loughran\n",
    "\n",
    "  X_train,X_valid,y_train,y_valid = gen_train_test_tab(seq_len,start_training,start_valid,end_valid,'Classification',target_market_name,target_market_ticker,scale=scale)\n",
    "  X_train_text,X_valid_text,y_train_text,y_valid_text = gen_train_test_text_tab(seq_len,start_training,start_valid,end_valid,'Classification',target_market_name,target_market_ticker,scale_features=scale,text_data=text_data)\n",
    "  \n",
    "  clf=AdaBoostClassifier(random_state=42,\n",
    "                           base_estimator=RandomForestClassifier(criterion='entropy',random_state=42))\n",
    "  clf.fit(X_train,y_train)\n",
    "  print('test set f1',f1_score(y_valid,clf.predict(X_valid),average='macro'))\n",
    "\n",
    "  X_train_text=X_train_text.fillna(-1)\n",
    "  X_valid_text=X_valid_text.fillna(-1)\n",
    "  clf_text=AdaBoostClassifier(random_state=42,\n",
    "                              base_estimator=RandomForestClassifier(criterion='entropy',random_state=42))\n",
    "  clf_text.fit(X_train_text,y_train_text)\n",
    "  print('test set f1_withtext',f1_score(y_valid_text,clf_text.predict(X_valid_text),average='macro'))"
   ]
  },
  {
   "cell_type": "markdown",
   "metadata": {
    "id": "D8gSxkgcwZbc"
   },
   "source": [
    "## S&P 500"
   ]
  },
  {
   "cell_type": "code",
   "execution_count": null,
   "metadata": {
    "colab": {
     "base_uri": "https://localhost:8080/",
     "height": 691
    },
    "id": "gaIVUDtql-LW",
    "outputId": "04d6db5c-fbe8-48d5-b9a8-7d59f001cc5a"
   },
   "outputs": [
    {
     "name": "stderr",
     "output_type": "stream",
     "text": [
      "0it [00:00, ?it/s]"
     ]
    },
    {
     "name": "stdout",
     "output_type": "stream",
     "text": [
      "0   2015-06-01   2018-05-29   2019-05-24\n"
     ]
    },
    {
     "name": "stderr",
     "output_type": "stream",
     "text": [
      "1it [00:02,  2.85s/it]"
     ]
    },
    {
     "name": "stdout",
     "output_type": "stream",
     "text": [
      "1   2015-09-18   2018-09-17   2019-09-13\n"
     ]
    },
    {
     "name": "stderr",
     "output_type": "stream",
     "text": [
      "2it [00:05,  2.85s/it]"
     ]
    },
    {
     "name": "stdout",
     "output_type": "stream",
     "text": [
      "2   2015-05-15   2018-05-14   2019-05-10\n"
     ]
    },
    {
     "name": "stderr",
     "output_type": "stream",
     "text": [
      "3it [00:08,  2.85s/it]"
     ]
    },
    {
     "name": "stdout",
     "output_type": "stream",
     "text": [
      "3   2015-01-23   2018-01-22   2019-01-17\n"
     ]
    },
    {
     "name": "stderr",
     "output_type": "stream",
     "text": [
      "4it [00:11,  3.05s/it]"
     ]
    },
    {
     "name": "stdout",
     "output_type": "stream",
     "text": [
      "4   2015-06-05   2018-06-04   2019-05-31\n"
     ]
    },
    {
     "name": "stderr",
     "output_type": "stream",
     "text": [
      "5it [00:15,  3.27s/it]"
     ]
    },
    {
     "name": "stdout",
     "output_type": "stream",
     "text": [
      "5   2015-04-16   2018-04-13   2019-04-10\n"
     ]
    },
    {
     "name": "stderr",
     "output_type": "stream",
     "text": [
      "6it [00:18,  3.10s/it]"
     ]
    },
    {
     "name": "stdout",
     "output_type": "stream",
     "text": [
      "6   2015-10-01   2018-09-28   2019-09-26\n"
     ]
    },
    {
     "name": "stderr",
     "output_type": "stream",
     "text": [
      "7it [00:21,  3.03s/it]"
     ]
    },
    {
     "name": "stdout",
     "output_type": "stream",
     "text": [
      "7   2015-02-02   2018-01-30   2019-01-28\n"
     ]
    },
    {
     "name": "stderr",
     "output_type": "stream",
     "text": [
      "8it [00:23,  2.94s/it]"
     ]
    },
    {
     "name": "stdout",
     "output_type": "stream",
     "text": [
      "8   2015-06-01   2018-05-29   2019-05-24\n"
     ]
    },
    {
     "name": "stderr",
     "output_type": "stream",
     "text": [
      "9it [00:28,  3.28s/it]"
     ]
    },
    {
     "name": "stdout",
     "output_type": "stream",
     "text": [
      "9   2015-06-26   2018-06-25   2019-06-21\n"
     ]
    },
    {
     "name": "stderr",
     "output_type": "stream",
     "text": [
      "10it [00:31,  3.11s/it]\n"
     ]
    },
    {
     "data": {
      "image/png": "[encoded data removed]",
      "text/plain": [
       "<Figure size 960x480 with 1 Axes>"
      ]
     },
     "metadata": {},
     "output_type": "display_data"
    },
    {
     "name": "stdout",
     "output_type": "stream",
     "text": [
      "f1 0.4360132495125305 0.030437756016043413\n",
      "f1_withtext 0.46454660630327327 0.03883816452054285\n",
      "test set f1 0.370036681897162\n",
      "test set f1_withtext 0.42337335111901586\n"
     ]
    }
   ],
   "source": [
    "model_(target_market_name='SP500',target_market_ticker='^GSPC')"
   ]
  },
  {
   "cell_type": "markdown",
   "metadata": {
    "id": "_1O9KouewusT"
   },
   "source": [
    "## Dow Jones Industrial"
   ]
  },
  {
   "cell_type": "code",
   "execution_count": null,
   "metadata": {
    "colab": {
     "base_uri": "https://localhost:8080/",
     "height": 688
    },
    "id": "OGDbM-Fnl-Sp",
    "outputId": "d6ea97af-b18c-4787-f596-0e98eb2871b5"
   },
   "outputs": [
    {
     "name": "stderr",
     "output_type": "stream",
     "text": [
      "0it [00:00, ?it/s]"
     ]
    },
    {
     "name": "stdout",
     "output_type": "stream",
     "text": [
      "0   2015-06-01   2018-05-29   2019-05-24\n"
     ]
    },
    {
     "name": "stderr",
     "output_type": "stream",
     "text": [
      "1it [00:04,  4.21s/it]"
     ]
    },
    {
     "name": "stdout",
     "output_type": "stream",
     "text": [
      "1   2015-09-18   2018-09-17   2019-09-13\n"
     ]
    },
    {
     "name": "stderr",
     "output_type": "stream",
     "text": [
      "2it [00:07,  3.66s/it]"
     ]
    },
    {
     "name": "stdout",
     "output_type": "stream",
     "text": [
      "2   2015-05-15   2018-05-14   2019-05-10\n"
     ]
    },
    {
     "name": "stderr",
     "output_type": "stream",
     "text": [
      "3it [00:10,  3.23s/it]"
     ]
    },
    {
     "name": "stdout",
     "output_type": "stream",
     "text": [
      "3   2015-01-23   2018-01-22   2019-01-17\n"
     ]
    },
    {
     "name": "stderr",
     "output_type": "stream",
     "text": [
      "4it [00:12,  3.03s/it]"
     ]
    },
    {
     "name": "stdout",
     "output_type": "stream",
     "text": [
      "4   2015-06-05   2018-06-04   2019-05-31\n"
     ]
    },
    {
     "name": "stderr",
     "output_type": "stream",
     "text": [
      "5it [00:16,  3.19s/it]"
     ]
    },
    {
     "name": "stdout",
     "output_type": "stream",
     "text": [
      "5   2015-04-16   2018-04-13   2019-04-10\n"
     ]
    },
    {
     "name": "stderr",
     "output_type": "stream",
     "text": [
      "6it [00:19,  3.32s/it]"
     ]
    },
    {
     "name": "stdout",
     "output_type": "stream",
     "text": [
      "6   2015-10-01   2018-09-28   2019-09-26\n"
     ]
    },
    {
     "name": "stderr",
     "output_type": "stream",
     "text": [
      "7it [00:22,  3.14s/it]"
     ]
    },
    {
     "name": "stdout",
     "output_type": "stream",
     "text": [
      "7   2015-02-02   2018-01-30   2019-01-28\n"
     ]
    },
    {
     "name": "stderr",
     "output_type": "stream",
     "text": [
      "8it [00:25,  3.04s/it]"
     ]
    },
    {
     "name": "stdout",
     "output_type": "stream",
     "text": [
      "8   2015-06-01   2018-05-29   2019-05-24\n"
     ]
    },
    {
     "name": "stderr",
     "output_type": "stream",
     "text": [
      "9it [00:28,  2.95s/it]"
     ]
    },
    {
     "name": "stdout",
     "output_type": "stream",
     "text": [
      "9   2015-06-26   2018-06-25   2019-06-21\n"
     ]
    },
    {
     "name": "stderr",
     "output_type": "stream",
     "text": [
      "10it [00:32,  3.22s/it]\n"
     ]
    },
    {
     "data": {
      "image/png": "[encoded data removed]",
      "text/plain": [
       "<Figure size 960x480 with 1 Axes>"
      ]
     },
     "metadata": {},
     "output_type": "display_data"
    },
    {
     "name": "stdout",
     "output_type": "stream",
     "text": [
      "f1 0.4268177778844244 0.027772519415663843\n",
      "f1_withtext 0.45712117287489284 0.032647653267239014\n",
      "test set f1 0.42954545454545445\n",
      "test set f1_withtext 0.4155214536570469\n"
     ]
    }
   ],
   "source": [
    "model_(target_market_name='DJI',target_market_ticker='^DJI')"
   ]
  },
  {
   "cell_type": "markdown",
   "metadata": {
    "id": "g75PQyOUxShs"
   },
   "source": [
    "## Nasdaq Composite"
   ]
  },
  {
   "cell_type": "code",
   "execution_count": null,
   "metadata": {
    "colab": {
     "base_uri": "https://localhost:8080/",
     "height": 688
    },
    "id": "jgsJF0NgxRNm",
    "outputId": "3380040a-7e0d-400e-9308-39ef1150ca1e"
   },
   "outputs": [
    {
     "name": "stderr",
     "output_type": "stream",
     "text": [
      "0it [00:00, ?it/s]"
     ]
    },
    {
     "name": "stdout",
     "output_type": "stream",
     "text": [
      "0   2015-06-01   2018-05-29   2019-05-24\n"
     ]
    },
    {
     "name": "stderr",
     "output_type": "stream",
     "text": [
      "1it [00:02,  2.97s/it]"
     ]
    },
    {
     "name": "stdout",
     "output_type": "stream",
     "text": [
      "1   2015-09-18   2018-09-17   2019-09-13\n"
     ]
    },
    {
     "name": "stderr",
     "output_type": "stream",
     "text": [
      "2it [00:05,  2.86s/it]"
     ]
    },
    {
     "name": "stdout",
     "output_type": "stream",
     "text": [
      "2   2015-05-15   2018-05-14   2019-05-10\n"
     ]
    },
    {
     "name": "stderr",
     "output_type": "stream",
     "text": [
      "3it [00:09,  3.28s/it]"
     ]
    },
    {
     "name": "stdout",
     "output_type": "stream",
     "text": [
      "3   2015-01-23   2018-01-22   2019-01-17\n"
     ]
    },
    {
     "name": "stderr",
     "output_type": "stream",
     "text": [
      "4it [00:12,  3.29s/it]"
     ]
    },
    {
     "name": "stdout",
     "output_type": "stream",
     "text": [
      "4   2015-06-05   2018-06-04   2019-05-31\n"
     ]
    },
    {
     "name": "stderr",
     "output_type": "stream",
     "text": [
      "5it [00:15,  3.09s/it]"
     ]
    },
    {
     "name": "stdout",
     "output_type": "stream",
     "text": [
      "5   2015-04-16   2018-04-13   2019-04-10\n"
     ]
    },
    {
     "name": "stderr",
     "output_type": "stream",
     "text": [
      "6it [00:18,  2.98s/it]"
     ]
    },
    {
     "name": "stdout",
     "output_type": "stream",
     "text": [
      "6   2015-10-01   2018-09-28   2019-09-26\n"
     ]
    },
    {
     "name": "stderr",
     "output_type": "stream",
     "text": [
      "7it [00:21,  2.91s/it]"
     ]
    },
    {
     "name": "stdout",
     "output_type": "stream",
     "text": [
      "7   2015-02-02   2018-01-30   2019-01-28\n"
     ]
    },
    {
     "name": "stderr",
     "output_type": "stream",
     "text": [
      "8it [00:25,  3.34s/it]"
     ]
    },
    {
     "name": "stdout",
     "output_type": "stream",
     "text": [
      "8   2015-06-01   2018-05-29   2019-05-24\n"
     ]
    },
    {
     "name": "stderr",
     "output_type": "stream",
     "text": [
      "9it [00:28,  3.19s/it]"
     ]
    },
    {
     "name": "stdout",
     "output_type": "stream",
     "text": [
      "9   2015-06-26   2018-06-25   2019-06-21\n"
     ]
    },
    {
     "name": "stderr",
     "output_type": "stream",
     "text": [
      "10it [00:30,  3.10s/it]\n"
     ]
    },
    {
     "data": {
      "image/png": "[encoded data removed]",
      "text/plain": [
       "<Figure size 960x480 with 1 Axes>"
      ]
     },
     "metadata": {},
     "output_type": "display_data"
    },
    {
     "name": "stdout",
     "output_type": "stream",
     "text": [
      "f1 0.44735479959041624 0.05132355974181927\n",
      "f1_withtext 0.45373838004590655 0.05125021552377495\n",
      "test set f1 0.43140677930876825\n",
      "test set f1_withtext 0.38297773654916517\n"
     ]
    }
   ],
   "source": [
    "model_(target_market_name='Nasdaq',target_market_ticker='^IXIC')"
   ]
  },
  {
   "cell_type": "code",
   "execution_count": null,
   "metadata": {
    "id": "dl_gToy6xqji"
   },
   "outputs": [],
   "source": []
  }
 ],
 "metadata": {
  "colab": {
   "provenance": [],
   "toc_visible": true
  },
  "gpuClass": "standard",
  "kernelspec": {
   "display_name": "Python 3 (ipykernel)",
   "language": "python",
   "name": "python3"
  },
  "language_info": {
   "codemirror_mode": {
    "name": "ipython",
    "version": 3
   },
   "file_extension": ".py",
   "mimetype": "text/x-python",
   "name": "python",
   "nbconvert_exporter": "python",
   "pygments_lexer": "ipython3",
   "version": "3.8.13"
  }
 },
 "nbformat": 4,
 "nbformat_minor": 4
}
